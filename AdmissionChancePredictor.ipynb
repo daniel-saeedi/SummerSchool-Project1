{
  "nbformat": 4,
  "nbformat_minor": 0,
  "metadata": {
    "colab": {
      "name": "Copy of AdmissionChancePredictor.ipynb",
      "provenance": [],
      "collapsed_sections": [
        "CBPxexb5qjUJ",
        "JVumT68aq6hd",
        "oOY9JHvxvWZX"
      ]
    },
    "kernelspec": {
      "name": "python3",
      "display_name": "Python 3.8.10 64-bit"
    },
    "language_info": {
      "name": "python",
      "version": "3.8.10",
      "mimetype": "text/x-python",
      "codemirror_mode": {
        "name": "ipython",
        "version": 3
      },
      "pygments_lexer": "ipython3",
      "nbconvert_exporter": "python",
      "file_extension": ".py"
    },
    "interpreter": {
      "hash": "916dbcbb3f70747c44a77c7bcd40155683ae19c65e1c03b4aa3499c5328201f1"
    }
  },
  "cells": [
    {
      "cell_type": "markdown",
      "metadata": {
        "id": "rJU7yydyqBbD"
      },
      "source": [
        "# Import Dataset"
      ]
    },
    {
      "cell_type": "code",
      "metadata": {
        "id": "VMFPkeeZlVwK"
      },
      "source": [
        "import pandas as pd\n",
        "import numpy as np"
      ],
      "execution_count": 3,
      "outputs": []
    },
    {
      "cell_type": "code",
      "metadata": {
        "id": "oCtrF02amqus"
      },
      "source": [
        "df = pd.read_csv('AdmissionPredict.csv')"
      ],
      "execution_count": 4,
      "outputs": []
    },
    {
      "cell_type": "code",
      "metadata": {
        "colab": {
          "base_uri": "https://localhost:8080/",
          "height": 203
        },
        "id": "IX1V-UvInDOq",
        "outputId": "bf3d27c2-c6e0-4aeb-8643-a38fc3f3fc1c"
      },
      "source": [
        "df.head()"
      ],
      "execution_count": 5,
      "outputs": [
        {
          "output_type": "execute_result",
          "data": {
            "text/html": [
              "<div>\n",
              "<style scoped>\n",
              "    .dataframe tbody tr th:only-of-type {\n",
              "        vertical-align: middle;\n",
              "    }\n",
              "\n",
              "    .dataframe tbody tr th {\n",
              "        vertical-align: top;\n",
              "    }\n",
              "\n",
              "    .dataframe thead th {\n",
              "        text-align: right;\n",
              "    }\n",
              "</style>\n",
              "<table border=\"1\" class=\"dataframe\">\n",
              "  <thead>\n",
              "    <tr style=\"text-align: right;\">\n",
              "      <th></th>\n",
              "      <th>Serial No.</th>\n",
              "      <th>GRE Score</th>\n",
              "      <th>TOEFL Score</th>\n",
              "      <th>University Rating</th>\n",
              "      <th>SOP</th>\n",
              "      <th>LOR</th>\n",
              "      <th>CGPA</th>\n",
              "      <th>Research</th>\n",
              "      <th>Chance of Admit</th>\n",
              "    </tr>\n",
              "  </thead>\n",
              "  <tbody>\n",
              "    <tr>\n",
              "      <th>0</th>\n",
              "      <td>1</td>\n",
              "      <td>337.0</td>\n",
              "      <td>118.0</td>\n",
              "      <td>4</td>\n",
              "      <td>4.5</td>\n",
              "      <td>4.5</td>\n",
              "      <td>9.65</td>\n",
              "      <td>1</td>\n",
              "      <td>0.92</td>\n",
              "    </tr>\n",
              "    <tr>\n",
              "      <th>1</th>\n",
              "      <td>2</td>\n",
              "      <td>324.0</td>\n",
              "      <td>107.0</td>\n",
              "      <td>4</td>\n",
              "      <td>4.0</td>\n",
              "      <td>4.5</td>\n",
              "      <td>8.87</td>\n",
              "      <td>1</td>\n",
              "      <td>NaN</td>\n",
              "    </tr>\n",
              "    <tr>\n",
              "      <th>2</th>\n",
              "      <td>3</td>\n",
              "      <td>316.0</td>\n",
              "      <td>NaN</td>\n",
              "      <td>3</td>\n",
              "      <td>3.0</td>\n",
              "      <td>3.5</td>\n",
              "      <td>8.00</td>\n",
              "      <td>1</td>\n",
              "      <td>0.72</td>\n",
              "    </tr>\n",
              "    <tr>\n",
              "      <th>3</th>\n",
              "      <td>4</td>\n",
              "      <td>NaN</td>\n",
              "      <td>110.0</td>\n",
              "      <td>3</td>\n",
              "      <td>3.5</td>\n",
              "      <td>2.5</td>\n",
              "      <td>8.67</td>\n",
              "      <td>1</td>\n",
              "      <td>0.80</td>\n",
              "    </tr>\n",
              "    <tr>\n",
              "      <th>4</th>\n",
              "      <td>5</td>\n",
              "      <td>314.0</td>\n",
              "      <td>103.0</td>\n",
              "      <td>2</td>\n",
              "      <td>2.0</td>\n",
              "      <td>3.0</td>\n",
              "      <td>8.21</td>\n",
              "      <td>0</td>\n",
              "      <td>0.65</td>\n",
              "    </tr>\n",
              "  </tbody>\n",
              "</table>\n",
              "</div>"
            ],
            "text/plain": [
              "   Serial No.  GRE Score  TOEFL Score  ...  CGPA  Research  Chance of Admit\n",
              "0           1      337.0        118.0  ...  9.65         1             0.92\n",
              "1           2      324.0        107.0  ...  8.87         1              NaN\n",
              "2           3      316.0          NaN  ...  8.00         1             0.72\n",
              "3           4        NaN        110.0  ...  8.67         1             0.80\n",
              "4           5      314.0        103.0  ...  8.21         0             0.65\n",
              "\n",
              "[5 rows x 9 columns]"
            ]
          },
          "metadata": {
            "tags": []
          },
          "execution_count": 5
        }
      ]
    },
    {
      "cell_type": "code",
      "metadata": {
        "colab": {
          "base_uri": "https://localhost:8080/",
          "height": 295
        },
        "id": "b3a2sosom64s",
        "outputId": "e65d7ec8-9ec1-47f9-9c19-1fb25b4bbeea"
      },
      "source": [
        "df.describe()"
      ],
      "execution_count": 6,
      "outputs": [
        {
          "output_type": "execute_result",
          "data": {
            "text/html": [
              "<div>\n",
              "<style scoped>\n",
              "    .dataframe tbody tr th:only-of-type {\n",
              "        vertical-align: middle;\n",
              "    }\n",
              "\n",
              "    .dataframe tbody tr th {\n",
              "        vertical-align: top;\n",
              "    }\n",
              "\n",
              "    .dataframe thead th {\n",
              "        text-align: right;\n",
              "    }\n",
              "</style>\n",
              "<table border=\"1\" class=\"dataframe\">\n",
              "  <thead>\n",
              "    <tr style=\"text-align: right;\">\n",
              "      <th></th>\n",
              "      <th>Serial No.</th>\n",
              "      <th>GRE Score</th>\n",
              "      <th>TOEFL Score</th>\n",
              "      <th>University Rating</th>\n",
              "      <th>SOP</th>\n",
              "      <th>LOR</th>\n",
              "      <th>CGPA</th>\n",
              "      <th>Research</th>\n",
              "      <th>Chance of Admit</th>\n",
              "    </tr>\n",
              "  </thead>\n",
              "  <tbody>\n",
              "    <tr>\n",
              "      <th>count</th>\n",
              "      <td>400.000000</td>\n",
              "      <td>378.000000</td>\n",
              "      <td>380.000000</td>\n",
              "      <td>400.000000</td>\n",
              "      <td>400.000000</td>\n",
              "      <td>400.000000</td>\n",
              "      <td>380.000000</td>\n",
              "      <td>400.000000</td>\n",
              "      <td>384.000000</td>\n",
              "    </tr>\n",
              "    <tr>\n",
              "      <th>mean</th>\n",
              "      <td>200.500000</td>\n",
              "      <td>316.759259</td>\n",
              "      <td>107.386842</td>\n",
              "      <td>3.087500</td>\n",
              "      <td>3.400000</td>\n",
              "      <td>3.452500</td>\n",
              "      <td>8.604737</td>\n",
              "      <td>0.547500</td>\n",
              "      <td>0.724375</td>\n",
              "    </tr>\n",
              "    <tr>\n",
              "      <th>std</th>\n",
              "      <td>115.614301</td>\n",
              "      <td>11.415599</td>\n",
              "      <td>6.048645</td>\n",
              "      <td>1.143728</td>\n",
              "      <td>1.006869</td>\n",
              "      <td>0.898478</td>\n",
              "      <td>0.599167</td>\n",
              "      <td>0.498362</td>\n",
              "      <td>0.142964</td>\n",
              "    </tr>\n",
              "    <tr>\n",
              "      <th>min</th>\n",
              "      <td>1.000000</td>\n",
              "      <td>290.000000</td>\n",
              "      <td>92.000000</td>\n",
              "      <td>1.000000</td>\n",
              "      <td>1.000000</td>\n",
              "      <td>1.000000</td>\n",
              "      <td>6.800000</td>\n",
              "      <td>0.000000</td>\n",
              "      <td>0.340000</td>\n",
              "    </tr>\n",
              "    <tr>\n",
              "      <th>25%</th>\n",
              "      <td>100.750000</td>\n",
              "      <td>308.250000</td>\n",
              "      <td>103.000000</td>\n",
              "      <td>2.000000</td>\n",
              "      <td>2.500000</td>\n",
              "      <td>3.000000</td>\n",
              "      <td>8.170000</td>\n",
              "      <td>0.000000</td>\n",
              "      <td>0.640000</td>\n",
              "    </tr>\n",
              "    <tr>\n",
              "      <th>50%</th>\n",
              "      <td>200.500000</td>\n",
              "      <td>317.000000</td>\n",
              "      <td>107.000000</td>\n",
              "      <td>3.000000</td>\n",
              "      <td>3.500000</td>\n",
              "      <td>3.500000</td>\n",
              "      <td>8.640000</td>\n",
              "      <td>1.000000</td>\n",
              "      <td>0.730000</td>\n",
              "    </tr>\n",
              "    <tr>\n",
              "      <th>75%</th>\n",
              "      <td>300.250000</td>\n",
              "      <td>325.000000</td>\n",
              "      <td>112.000000</td>\n",
              "      <td>4.000000</td>\n",
              "      <td>4.000000</td>\n",
              "      <td>4.000000</td>\n",
              "      <td>9.080000</td>\n",
              "      <td>1.000000</td>\n",
              "      <td>0.830000</td>\n",
              "    </tr>\n",
              "    <tr>\n",
              "      <th>max</th>\n",
              "      <td>400.000000</td>\n",
              "      <td>340.000000</td>\n",
              "      <td>120.000000</td>\n",
              "      <td>5.000000</td>\n",
              "      <td>5.000000</td>\n",
              "      <td>5.000000</td>\n",
              "      <td>9.920000</td>\n",
              "      <td>1.000000</td>\n",
              "      <td>0.970000</td>\n",
              "    </tr>\n",
              "  </tbody>\n",
              "</table>\n",
              "</div>"
            ],
            "text/plain": [
              "       Serial No.   GRE Score  ...    Research  Chance of Admit\n",
              "count  400.000000  378.000000  ...  400.000000       384.000000\n",
              "mean   200.500000  316.759259  ...    0.547500         0.724375\n",
              "std    115.614301   11.415599  ...    0.498362         0.142964\n",
              "min      1.000000  290.000000  ...    0.000000         0.340000\n",
              "25%    100.750000  308.250000  ...    0.000000         0.640000\n",
              "50%    200.500000  317.000000  ...    1.000000         0.730000\n",
              "75%    300.250000  325.000000  ...    1.000000         0.830000\n",
              "max    400.000000  340.000000  ...    1.000000         0.970000\n",
              "\n",
              "[8 rows x 9 columns]"
            ]
          },
          "metadata": {
            "tags": []
          },
          "execution_count": 6
        }
      ]
    },
    {
      "cell_type": "code",
      "metadata": {
        "colab": {
          "base_uri": "https://localhost:8080/"
        },
        "id": "9veoT4Vfm84F",
        "outputId": "5a5b173c-716c-49f9-b12a-1544ffd0c70e"
      },
      "source": [
        "df.info()"
      ],
      "execution_count": 7,
      "outputs": [
        {
          "output_type": "stream",
          "text": [
            "<class 'pandas.core.frame.DataFrame'>\n",
            "RangeIndex: 400 entries, 0 to 399\n",
            "Data columns (total 9 columns):\n",
            " #   Column             Non-Null Count  Dtype  \n",
            "---  ------             --------------  -----  \n",
            " 0   Serial No.         400 non-null    int64  \n",
            " 1   GRE Score          378 non-null    float64\n",
            " 2   TOEFL Score        380 non-null    float64\n",
            " 3   University Rating  400 non-null    int64  \n",
            " 4   SOP                400 non-null    float64\n",
            " 5   LOR                400 non-null    float64\n",
            " 6   CGPA               380 non-null    float64\n",
            " 7   Research           400 non-null    int64  \n",
            " 8   Chance of Admit    384 non-null    float64\n",
            "dtypes: float64(6), int64(3)\n",
            "memory usage: 28.2 KB\n"
          ],
          "name": "stdout"
        }
      ]
    },
    {
      "cell_type": "markdown",
      "metadata": {
        "id": "zrCVoHJJqOUq"
      },
      "source": [
        "# Data Exploratory Analysis"
      ]
    },
    {
      "cell_type": "markdown",
      "metadata": {
        "id": "CBPxexb5qjUJ"
      },
      "source": [
        "## Dealing With Missing Data\n",
        "Let's see which column has NaN values : "
      ]
    },
    {
      "cell_type": "code",
      "metadata": {
        "colab": {
          "base_uri": "https://localhost:8080/"
        },
        "id": "Yrit8TvKqQGl",
        "outputId": "515ad515-b764-4352-d4db-b5dd1a50a444"
      },
      "source": [
        "df.isnull().sum()"
      ],
      "execution_count": 8,
      "outputs": [
        {
          "output_type": "execute_result",
          "data": {
            "text/plain": [
              "Serial No.            0\n",
              "GRE Score            22\n",
              "TOEFL Score          20\n",
              "University Rating     0\n",
              "SOP                   0\n",
              "LOR                   0\n",
              "CGPA                 20\n",
              "Research              0\n",
              "Chance of Admit      16\n",
              "dtype: int64"
            ]
          },
          "metadata": {
            "tags": []
          },
          "execution_count": 8
        }
      ]
    },
    {
      "cell_type": "markdown",
      "metadata": {
        "id": "DjEIURuNWO6K"
      },
      "source": [
        "Let's drop NaN values in Chance of Admit column:"
      ]
    },
    {
      "cell_type": "code",
      "metadata": {
        "colab": {
          "base_uri": "https://localhost:8080/",
          "height": 0
        },
        "id": "lkaCpBveWEz8",
        "outputId": "21305395-2249-4515-d9d3-88929d7e3421"
      },
      "source": [
        "df = df[df['Chance of Admit'].notna()]\n",
        "df"
      ],
      "execution_count": 9,
      "outputs": [
        {
          "output_type": "execute_result",
          "data": {
            "text/html": [
              "<div>\n",
              "<style scoped>\n",
              "    .dataframe tbody tr th:only-of-type {\n",
              "        vertical-align: middle;\n",
              "    }\n",
              "\n",
              "    .dataframe tbody tr th {\n",
              "        vertical-align: top;\n",
              "    }\n",
              "\n",
              "    .dataframe thead th {\n",
              "        text-align: right;\n",
              "    }\n",
              "</style>\n",
              "<table border=\"1\" class=\"dataframe\">\n",
              "  <thead>\n",
              "    <tr style=\"text-align: right;\">\n",
              "      <th></th>\n",
              "      <th>Serial No.</th>\n",
              "      <th>GRE Score</th>\n",
              "      <th>TOEFL Score</th>\n",
              "      <th>University Rating</th>\n",
              "      <th>SOP</th>\n",
              "      <th>LOR</th>\n",
              "      <th>CGPA</th>\n",
              "      <th>Research</th>\n",
              "      <th>Chance of Admit</th>\n",
              "    </tr>\n",
              "  </thead>\n",
              "  <tbody>\n",
              "    <tr>\n",
              "      <th>0</th>\n",
              "      <td>1</td>\n",
              "      <td>337.0</td>\n",
              "      <td>118.0</td>\n",
              "      <td>4</td>\n",
              "      <td>4.5</td>\n",
              "      <td>4.5</td>\n",
              "      <td>9.65</td>\n",
              "      <td>1</td>\n",
              "      <td>0.92</td>\n",
              "    </tr>\n",
              "    <tr>\n",
              "      <th>2</th>\n",
              "      <td>3</td>\n",
              "      <td>316.0</td>\n",
              "      <td>NaN</td>\n",
              "      <td>3</td>\n",
              "      <td>3.0</td>\n",
              "      <td>3.5</td>\n",
              "      <td>8.00</td>\n",
              "      <td>1</td>\n",
              "      <td>0.72</td>\n",
              "    </tr>\n",
              "    <tr>\n",
              "      <th>3</th>\n",
              "      <td>4</td>\n",
              "      <td>NaN</td>\n",
              "      <td>110.0</td>\n",
              "      <td>3</td>\n",
              "      <td>3.5</td>\n",
              "      <td>2.5</td>\n",
              "      <td>8.67</td>\n",
              "      <td>1</td>\n",
              "      <td>0.80</td>\n",
              "    </tr>\n",
              "    <tr>\n",
              "      <th>4</th>\n",
              "      <td>5</td>\n",
              "      <td>314.0</td>\n",
              "      <td>103.0</td>\n",
              "      <td>2</td>\n",
              "      <td>2.0</td>\n",
              "      <td>3.0</td>\n",
              "      <td>8.21</td>\n",
              "      <td>0</td>\n",
              "      <td>0.65</td>\n",
              "    </tr>\n",
              "    <tr>\n",
              "      <th>5</th>\n",
              "      <td>6</td>\n",
              "      <td>330.0</td>\n",
              "      <td>115.0</td>\n",
              "      <td>5</td>\n",
              "      <td>4.5</td>\n",
              "      <td>3.0</td>\n",
              "      <td>9.34</td>\n",
              "      <td>1</td>\n",
              "      <td>0.90</td>\n",
              "    </tr>\n",
              "    <tr>\n",
              "      <th>...</th>\n",
              "      <td>...</td>\n",
              "      <td>...</td>\n",
              "      <td>...</td>\n",
              "      <td>...</td>\n",
              "      <td>...</td>\n",
              "      <td>...</td>\n",
              "      <td>...</td>\n",
              "      <td>...</td>\n",
              "      <td>...</td>\n",
              "    </tr>\n",
              "    <tr>\n",
              "      <th>394</th>\n",
              "      <td>395</td>\n",
              "      <td>329.0</td>\n",
              "      <td>111.0</td>\n",
              "      <td>4</td>\n",
              "      <td>4.5</td>\n",
              "      <td>4.0</td>\n",
              "      <td>9.23</td>\n",
              "      <td>1</td>\n",
              "      <td>0.89</td>\n",
              "    </tr>\n",
              "    <tr>\n",
              "      <th>395</th>\n",
              "      <td>396</td>\n",
              "      <td>324.0</td>\n",
              "      <td>110.0</td>\n",
              "      <td>3</td>\n",
              "      <td>3.5</td>\n",
              "      <td>3.5</td>\n",
              "      <td>9.04</td>\n",
              "      <td>1</td>\n",
              "      <td>0.82</td>\n",
              "    </tr>\n",
              "    <tr>\n",
              "      <th>397</th>\n",
              "      <td>398</td>\n",
              "      <td>330.0</td>\n",
              "      <td>116.0</td>\n",
              "      <td>4</td>\n",
              "      <td>5.0</td>\n",
              "      <td>4.5</td>\n",
              "      <td>9.45</td>\n",
              "      <td>1</td>\n",
              "      <td>0.91</td>\n",
              "    </tr>\n",
              "    <tr>\n",
              "      <th>398</th>\n",
              "      <td>399</td>\n",
              "      <td>312.0</td>\n",
              "      <td>103.0</td>\n",
              "      <td>3</td>\n",
              "      <td>3.5</td>\n",
              "      <td>4.0</td>\n",
              "      <td>8.78</td>\n",
              "      <td>0</td>\n",
              "      <td>0.67</td>\n",
              "    </tr>\n",
              "    <tr>\n",
              "      <th>399</th>\n",
              "      <td>400</td>\n",
              "      <td>333.0</td>\n",
              "      <td>117.0</td>\n",
              "      <td>4</td>\n",
              "      <td>5.0</td>\n",
              "      <td>4.0</td>\n",
              "      <td>9.66</td>\n",
              "      <td>1</td>\n",
              "      <td>0.95</td>\n",
              "    </tr>\n",
              "  </tbody>\n",
              "</table>\n",
              "<p>384 rows × 9 columns</p>\n",
              "</div>"
            ],
            "text/plain": [
              "     Serial No.  GRE Score  TOEFL Score  ...  CGPA  Research  Chance of Admit\n",
              "0             1      337.0        118.0  ...  9.65         1             0.92\n",
              "2             3      316.0          NaN  ...  8.00         1             0.72\n",
              "3             4        NaN        110.0  ...  8.67         1             0.80\n",
              "4             5      314.0        103.0  ...  8.21         0             0.65\n",
              "5             6      330.0        115.0  ...  9.34         1             0.90\n",
              "..          ...        ...          ...  ...   ...       ...              ...\n",
              "394         395      329.0        111.0  ...  9.23         1             0.89\n",
              "395         396      324.0        110.0  ...  9.04         1             0.82\n",
              "397         398      330.0        116.0  ...  9.45         1             0.91\n",
              "398         399      312.0        103.0  ...  8.78         0             0.67\n",
              "399         400      333.0        117.0  ...  9.66         1             0.95\n",
              "\n",
              "[384 rows x 9 columns]"
            ]
          },
          "metadata": {
            "tags": []
          },
          "execution_count": 9
        }
      ]
    },
    {
      "cell_type": "markdown",
      "metadata": {
        "id": "hO7in762SlZQ"
      },
      "source": [
        "## For filling NaN vlues, we have 2 options:"
      ]
    },
    {
      "cell_type": "markdown",
      "metadata": {
        "id": "SmPThRjlSlZQ"
      },
      "source": [
        "1) Filling with median vlue of each column:"
      ]
    },
    {
      "cell_type": "code",
      "metadata": {
        "id": "YF7E1awWSlZR",
        "colab": {
          "base_uri": "https://localhost:8080/"
        },
        "outputId": "3b303d91-f3e7-4ad2-9a86-c6f95762c4b4"
      },
      "source": [
        "# we have missing data, only in 'GRE Score', 'TOEFL Score' and 'CGPA' columns.\n",
        "temp_df_nonan = df.copy()\n",
        "temp_df_nonan['GRE Score'].replace(np.nan, temp_df_nonan['GRE Score'].median(), inplace=True)\n",
        "temp_df_nonan['TOEFL Score'].replace(np.nan, temp_df_nonan['TOEFL Score'].median(), inplace=True)\n",
        "temp_df_nonan['CGPA'].replace(np.nan, temp_df_nonan['CGPA'].median(), inplace=True)\n",
        "temp_df_nonan.info()"
      ],
      "execution_count": 10,
      "outputs": [
        {
          "output_type": "stream",
          "text": [
            "<class 'pandas.core.frame.DataFrame'>\n",
            "Int64Index: 384 entries, 0 to 399\n",
            "Data columns (total 9 columns):\n",
            " #   Column             Non-Null Count  Dtype  \n",
            "---  ------             --------------  -----  \n",
            " 0   Serial No.         384 non-null    int64  \n",
            " 1   GRE Score          384 non-null    float64\n",
            " 2   TOEFL Score        384 non-null    float64\n",
            " 3   University Rating  384 non-null    int64  \n",
            " 4   SOP                384 non-null    float64\n",
            " 5   LOR                384 non-null    float64\n",
            " 6   CGPA               384 non-null    float64\n",
            " 7   Research           384 non-null    int64  \n",
            " 8   Chance of Admit    384 non-null    float64\n",
            "dtypes: float64(6), int64(3)\n",
            "memory usage: 30.0 KB\n"
          ],
          "name": "stdout"
        }
      ]
    },
    {
      "cell_type": "markdown",
      "metadata": {
        "id": "JJWK9-KUSlZS"
      },
      "source": [
        "2) Finding correlation and filling with mean of subset of each column: (we choose this method for other parts)"
      ]
    },
    {
      "cell_type": "markdown",
      "metadata": {
        "id": "JVumT68aq6hd"
      },
      "source": [
        "### GRE Score"
      ]
    },
    {
      "cell_type": "code",
      "metadata": {
        "colab": {
          "base_uri": "https://localhost:8080/"
        },
        "id": "LnhnJXtpqigy",
        "outputId": "be1f93d0-2bdc-4b82-90a4-baf4673abd2d"
      },
      "source": [
        "df.corr()['GRE Score'].drop('GRE Score').sort_values(ascending = False)"
      ],
      "execution_count": 11,
      "outputs": [
        {
          "output_type": "execute_result",
          "data": {
            "text/plain": [
              "TOEFL Score          0.840993\n",
              "CGPA                 0.830727\n",
              "Chance of Admit      0.805076\n",
              "University Rating    0.671549\n",
              "SOP                  0.620963\n",
              "Research             0.588385\n",
              "LOR                  0.556729\n",
              "Serial No.          -0.105022\n",
              "Name: GRE Score, dtype: float64"
            ]
          },
          "metadata": {
            "tags": []
          },
          "execution_count": 11
        }
      ]
    },
    {
      "cell_type": "markdown",
      "metadata": {
        "id": "MJLSySwtrY1j"
      },
      "source": [
        "We will group the dataframe by University Rating(Because there's a high correlation between ) and calculate the average value for GRE Score per University Rating"
      ]
    },
    {
      "cell_type": "code",
      "metadata": {
        "colab": {
          "base_uri": "https://localhost:8080/"
        },
        "id": "UrWaJoElrFtB",
        "outputId": "689a8895-9ecb-438d-9b23-0cd81ccb5232"
      },
      "source": [
        "Per_UR = df.groupby('University Rating').mean()['GRE Score']\n",
        "Per_UR"
      ],
      "execution_count": 12,
      "outputs": [
        {
          "output_type": "execute_result",
          "data": {
            "text/plain": [
              "University Rating\n",
              "1    303.520000\n",
              "2    309.410526\n",
              "3    315.790323\n",
              "4    324.671875\n",
              "5    328.642857\n",
              "Name: GRE Score, dtype: float64"
            ]
          },
          "metadata": {
            "tags": []
          },
          "execution_count": 12
        }
      ]
    },
    {
      "cell_type": "code",
      "metadata": {
        "id": "uia6RPfbrmoI"
      },
      "source": [
        "def fill_nan(uni_rating, second) :\n",
        "  if np.isnan(second) : \n",
        "    return Per_UR[uni_rating]\n",
        "  else :\n",
        "    return second\n",
        "\n",
        "df['GRE Score'] = df.apply(lambda row : fill_nan(row['University Rating'],row['GRE Score']),axis = 1)"
      ],
      "execution_count": 13,
      "outputs": []
    },
    {
      "cell_type": "code",
      "metadata": {
        "colab": {
          "base_uri": "https://localhost:8080/"
        },
        "id": "QjOGNxeHt5FQ",
        "outputId": "38416792-51b0-451f-a2dd-ffff49f0596b"
      },
      "source": [
        "df.isnull().sum()"
      ],
      "execution_count": 14,
      "outputs": [
        {
          "output_type": "execute_result",
          "data": {
            "text/plain": [
              "Serial No.            0\n",
              "GRE Score             0\n",
              "TOEFL Score          19\n",
              "University Rating     0\n",
              "SOP                   0\n",
              "LOR                   0\n",
              "CGPA                 20\n",
              "Research              0\n",
              "Chance of Admit       0\n",
              "dtype: int64"
            ]
          },
          "metadata": {
            "tags": []
          },
          "execution_count": 14
        }
      ]
    },
    {
      "cell_type": "markdown",
      "metadata": {
        "id": "oOY9JHvxvWZX"
      },
      "source": [
        "### TOEFL Score Column"
      ]
    },
    {
      "cell_type": "code",
      "metadata": {
        "colab": {
          "base_uri": "https://localhost:8080/"
        },
        "id": "QmEc4vr4vYVt",
        "outputId": "8266814c-7a72-4b70-b644-07517e17734a"
      },
      "source": [
        "df.corr()['TOEFL Score'].drop('TOEFL Score').sort_values(ascending = False)"
      ],
      "execution_count": 15,
      "outputs": [
        {
          "output_type": "execute_result",
          "data": {
            "text/plain": [
              "GRE Score            0.834685\n",
              "CGPA                 0.828364\n",
              "Chance of Admit      0.783667\n",
              "University Rating    0.689511\n",
              "SOP                  0.647810\n",
              "LOR                  0.556272\n",
              "Research             0.509609\n",
              "Serial No.          -0.153994\n",
              "Name: TOEFL Score, dtype: float64"
            ]
          },
          "metadata": {
            "tags": []
          },
          "execution_count": 15
        }
      ]
    },
    {
      "cell_type": "code",
      "metadata": {
        "colab": {
          "base_uri": "https://localhost:8080/"
        },
        "id": "7aYNLvJfYts_",
        "outputId": "2ea5697a-2add-4cc2-8dfa-5bee4530e1fe"
      },
      "source": [
        "Per_UR = df.groupby('University Rating').mean()['TOEFL Score']\n",
        "Per_UR"
      ],
      "execution_count": 16,
      "outputs": [
        {
          "output_type": "execute_result",
          "data": {
            "text/plain": [
              "University Rating\n",
              "1     99.240000\n",
              "2    103.729167\n",
              "3    107.000000\n",
              "4    111.530303\n",
              "5    113.800000\n",
              "Name: TOEFL Score, dtype: float64"
            ]
          },
          "metadata": {
            "tags": []
          },
          "execution_count": 16
        }
      ]
    },
    {
      "cell_type": "code",
      "metadata": {
        "id": "VAuBdYEVvbK2"
      },
      "source": [
        "df['TOEFL Score'] = df.apply(lambda row : fill_nan(row['University Rating'],row['TOEFL Score']),axis = 1)"
      ],
      "execution_count": 17,
      "outputs": []
    },
    {
      "cell_type": "code",
      "metadata": {
        "colab": {
          "base_uri": "https://localhost:8080/"
        },
        "id": "dvJ9i0S0ZLoL",
        "outputId": "cf2cd30f-dcde-4515-ba9b-9cfad229a8f4"
      },
      "source": [
        "df.isnull().sum()"
      ],
      "execution_count": 18,
      "outputs": [
        {
          "output_type": "execute_result",
          "data": {
            "text/plain": [
              "Serial No.            0\n",
              "GRE Score             0\n",
              "TOEFL Score           0\n",
              "University Rating     0\n",
              "SOP                   0\n",
              "LOR                   0\n",
              "CGPA                 20\n",
              "Research              0\n",
              "Chance of Admit       0\n",
              "dtype: int64"
            ]
          },
          "metadata": {
            "tags": []
          },
          "execution_count": 18
        }
      ]
    },
    {
      "cell_type": "markdown",
      "metadata": {
        "id": "qKQlUofhZmjB"
      },
      "source": [
        "### CGPA Column"
      ]
    },
    {
      "cell_type": "code",
      "metadata": {
        "colab": {
          "base_uri": "https://localhost:8080/"
        },
        "id": "acUfQgEQZMuI",
        "outputId": "8fcd2eb4-9bda-4514-edbc-4226a5c5e5b9"
      },
      "source": [
        "df.corr()['CGPA'].drop('CGPA').sort_values(ascending = False)"
      ],
      "execution_count": 19,
      "outputs": [
        {
          "output_type": "execute_result",
          "data": {
            "text/plain": [
              "Chance of Admit      0.872492\n",
              "GRE Score            0.824538\n",
              "TOEFL Score          0.824481\n",
              "University Rating    0.750312\n",
              "SOP                  0.720422\n",
              "LOR                  0.669002\n",
              "Research             0.527005\n",
              "Serial No.          -0.058785\n",
              "Name: CGPA, dtype: float64"
            ]
          },
          "metadata": {
            "tags": []
          },
          "execution_count": 19
        }
      ]
    },
    {
      "cell_type": "code",
      "metadata": {
        "colab": {
          "base_uri": "https://localhost:8080/"
        },
        "id": "bsqhGCKQZztD",
        "outputId": "b8ecd36f-3c0f-486f-e0b9-a7f316457bd5"
      },
      "source": [
        "Per_UR = df.groupby('University Rating').mean()['CGPA']\n",
        "Per_UR"
      ],
      "execution_count": 20,
      "outputs": [
        {
          "output_type": "execute_result",
          "data": {
            "text/plain": [
              "University Rating\n",
              "1    7.750000\n",
              "2    8.196064\n",
              "3    8.550000\n",
              "4    9.020746\n",
              "5    9.316909\n",
              "Name: CGPA, dtype: float64"
            ]
          },
          "metadata": {
            "tags": []
          },
          "execution_count": 20
        }
      ]
    },
    {
      "cell_type": "code",
      "metadata": {
        "id": "BgpATfO1Z-7W"
      },
      "source": [
        "df['CGPA'] = df.apply(lambda row : fill_nan(row['University Rating'],row['CGPA']),axis = 1)"
      ],
      "execution_count": 21,
      "outputs": []
    },
    {
      "cell_type": "code",
      "metadata": {
        "colab": {
          "base_uri": "https://localhost:8080/"
        },
        "id": "omP1TLG7aDO2",
        "outputId": "3557e1b4-91f5-4b14-90bb-e16160a21004"
      },
      "source": [
        "df.isnull().sum()"
      ],
      "execution_count": 22,
      "outputs": [
        {
          "output_type": "execute_result",
          "data": {
            "text/plain": [
              "Serial No.           0\n",
              "GRE Score            0\n",
              "TOEFL Score          0\n",
              "University Rating    0\n",
              "SOP                  0\n",
              "LOR                  0\n",
              "CGPA                 0\n",
              "Research             0\n",
              "Chance of Admit      0\n",
              "dtype: int64"
            ]
          },
          "metadata": {
            "tags": []
          },
          "execution_count": 22
        }
      ]
    },
    {
      "cell_type": "markdown",
      "metadata": {
        "id": "KyoaBmyka9Pd"
      },
      "source": [
        "## Scatterplot"
      ]
    },
    {
      "cell_type": "code",
      "metadata": {
        "id": "qKtFbZrLbBLc"
      },
      "source": [
        "import matplotlib.pyplot as plt\n",
        "import seaborn as sns"
      ],
      "execution_count": 23,
      "outputs": []
    },
    {
      "cell_type": "code",
      "metadata": {
        "id": "AhmhwPWQSlZX",
        "colab": {
          "base_uri": "https://localhost:8080/",
          "height": 300
        },
        "outputId": "2c8cfe57-c7aa-43a2-dc8d-c71eeaacd5ec"
      },
      "source": [
        "sns.scatterplot(data = df, y = 'Chance of Admit', x = 'Serial No.')"
      ],
      "execution_count": 24,
      "outputs": [
        {
          "output_type": "execute_result",
          "data": {
            "text/plain": [
              "<matplotlib.axes._subplots.AxesSubplot at 0x7f810ff05510>"
            ]
          },
          "metadata": {
            "tags": []
          },
          "execution_count": 24
        },
        {
          "output_type": "display_data",
          "data": {
            "image/png": "[encoded data removed]",
            "text/plain": [
              "<Figure size 432x288 with 1 Axes>"
            ]
          },
          "metadata": {
            "tags": [],
            "needs_background": "light"
          }
        }
      ]
    },
    {
      "cell_type": "code",
      "metadata": {
        "colab": {
          "base_uri": "https://localhost:8080/",
          "height": 300
        },
        "id": "O9ev-jASbL3l",
        "outputId": "211ffd74-4590-4457-c065-d118b669f662"
      },
      "source": [
        "sns.scatterplot(data = df, y = 'Chance of Admit', x = 'GRE Score')"
      ],
      "execution_count": 25,
      "outputs": [
        {
          "output_type": "execute_result",
          "data": {
            "text/plain": [
              "<matplotlib.axes._subplots.AxesSubplot at 0x7f810f39e390>"
            ]
          },
          "metadata": {
            "tags": []
          },
          "execution_count": 25
        },
        {
          "output_type": "display_data",
          "data": {
            "image/png": "[encoded data removed]",
            "text/plain": [
              "<Figure size 432x288 with 1 Axes>"
            ]
          },
          "metadata": {
            "tags": [],
            "needs_background": "light"
          }
        }
      ]
    },
    {
      "cell_type": "code",
      "metadata": {
        "colab": {
          "base_uri": "https://localhost:8080/",
          "height": 300
        },
        "id": "OcoX2hV-bxS7",
        "outputId": "c713c66b-6ec4-4e0c-f9b1-5f465ac531fc"
      },
      "source": [
        "sns.scatterplot(data = df, y = 'Chance of Admit', x = 'TOEFL Score')"
      ],
      "execution_count": 26,
      "outputs": [
        {
          "output_type": "execute_result",
          "data": {
            "text/plain": [
              "<matplotlib.axes._subplots.AxesSubplot at 0x7f810eecdb90>"
            ]
          },
          "metadata": {
            "tags": []
          },
          "execution_count": 26
        },
        {
          "output_type": "display_data",
          "data": {
            "image/png": "[encoded data removed]",
            "text/plain": [
              "<Figure size 432x288 with 1 Axes>"
            ]
          },
          "metadata": {
            "tags": [],
            "needs_background": "light"
          }
        }
      ]
    },
    {
      "cell_type": "code",
      "metadata": {
        "colab": {
          "base_uri": "https://localhost:8080/",
          "height": 300
        },
        "id": "F-YrTf01cur0",
        "outputId": "66c83397-be05-4971-d0bc-b5b89753a194"
      },
      "source": [
        "sns.scatterplot(data = df, y = 'Chance of Admit', x = 'University Rating')"
      ],
      "execution_count": 27,
      "outputs": [
        {
          "output_type": "execute_result",
          "data": {
            "text/plain": [
              "<matplotlib.axes._subplots.AxesSubplot at 0x7f810ee546d0>"
            ]
          },
          "metadata": {
            "tags": []
          },
          "execution_count": 27
        },
        {
          "output_type": "display_data",
          "data": {
            "image/png": "[encoded data removed]",
            "text/plain": [
              "<Figure size 432x288 with 1 Axes>"
            ]
          },
          "metadata": {
            "tags": [],
            "needs_background": "light"
          }
        }
      ]
    },
    {
      "cell_type": "code",
      "metadata": {
        "colab": {
          "base_uri": "https://localhost:8080/",
          "height": 300
        },
        "id": "QqbwLJrXc5Kd",
        "outputId": "534931bc-1602-4c2a-c7b7-c97a8ab8a677"
      },
      "source": [
        "sns.scatterplot(data = df, y = 'Chance of Admit', x = 'SOP')"
      ],
      "execution_count": 28,
      "outputs": [
        {
          "output_type": "execute_result",
          "data": {
            "text/plain": [
              "<matplotlib.axes._subplots.AxesSubplot at 0x7f810ee56a90>"
            ]
          },
          "metadata": {
            "tags": []
          },
          "execution_count": 28
        },
        {
          "output_type": "display_data",
          "data": {
            "image/png": "[encoded data removed]",
            "text/plain": [
              "<Figure size 432x288 with 1 Axes>"
            ]
          },
          "metadata": {
            "tags": [],
            "needs_background": "light"
          }
        }
      ]
    },
    {
      "cell_type": "code",
      "metadata": {
        "id": "-v01QQY1SlZZ",
        "colab": {
          "base_uri": "https://localhost:8080/",
          "height": 300
        },
        "outputId": "27908176-a6cb-412a-d4ee-7b82c38eccc1"
      },
      "source": [
        "sns.scatterplot(data = df, y = 'Chance of Admit', x = 'LOR ')"
      ],
      "execution_count": 29,
      "outputs": [
        {
          "output_type": "execute_result",
          "data": {
            "text/plain": [
              "<matplotlib.axes._subplots.AxesSubplot at 0x7f810edaad50>"
            ]
          },
          "metadata": {
            "tags": []
          },
          "execution_count": 29
        },
        {
          "output_type": "display_data",
          "data": {
            "image/png": "[encoded data removed]",
            "text/plain": [
              "<Figure size 432x288 with 1 Axes>"
            ]
          },
          "metadata": {
            "tags": [],
            "needs_background": "light"
          }
        }
      ]
    },
    {
      "cell_type": "code",
      "metadata": {
        "colab": {
          "base_uri": "https://localhost:8080/",
          "height": 300
        },
        "id": "LEGhfs7ddBnm",
        "outputId": "b5cfc7c0-8b88-4946-f114-fce6406e826b"
      },
      "source": [
        "sns.scatterplot(data = df, y = 'Chance of Admit', x = 'CGPA')"
      ],
      "execution_count": 30,
      "outputs": [
        {
          "output_type": "execute_result",
          "data": {
            "text/plain": [
              "<matplotlib.axes._subplots.AxesSubplot at 0x7f810ed2ca10>"
            ]
          },
          "metadata": {
            "tags": []
          },
          "execution_count": 30
        },
        {
          "output_type": "display_data",
          "data": {
            "image/png": "[encoded data removed]",
            "text/plain": [
              "<Figure size 432x288 with 1 Axes>"
            ]
          },
          "metadata": {
            "tags": [],
            "needs_background": "light"
          }
        }
      ]
    },
    {
      "cell_type": "code",
      "metadata": {
        "colab": {
          "base_uri": "https://localhost:8080/",
          "height": 300
        },
        "id": "eOb6t7lQdFiZ",
        "outputId": "d0769004-7bab-40f2-a53b-5a4943363a82"
      },
      "source": [
        "sns.scatterplot(data = df, y = 'Chance of Admit', x = 'Research')"
      ],
      "execution_count": 31,
      "outputs": [
        {
          "output_type": "execute_result",
          "data": {
            "text/plain": [
              "<matplotlib.axes._subplots.AxesSubplot at 0x7f810eca6fd0>"
            ]
          },
          "metadata": {
            "tags": []
          },
          "execution_count": 31
        },
        {
          "output_type": "display_data",
          "data": {
            "image/png": "[encoded data removed]",
            "text/plain": [
              "<Figure size 432x288 with 1 Axes>"
            ]
          },
          "metadata": {
            "tags": [],
            "needs_background": "light"
          }
        }
      ]
    },
    {
      "cell_type": "markdown",
      "metadata": {
        "id": "LrBOI7J7ejSo"
      },
      "source": [
        "It seems **CGPA** correlates more with Chance of Admission. if you ignore noisy points in plot, you can fit a straight line to example points of dataset in plot, approximately."
      ]
    },
    {
      "cell_type": "markdown",
      "metadata": {
        "id": "sY-TIMS8xUfM"
      },
      "source": [
        "# Training the model"
      ]
    },
    {
      "cell_type": "markdown",
      "metadata": {
        "id": "jA-TpWiIxbBN"
      },
      "source": [
        "## Train / Test Split"
      ]
    },
    {
      "cell_type": "code",
      "metadata": {
        "id": "KC52SXZyxZ1U"
      },
      "source": [
        "from sklearn.model_selection import train_test_split"
      ],
      "execution_count": 32,
      "outputs": []
    },
    {
      "cell_type": "code",
      "metadata": {
        "id": "CMFnUOYOxgcb"
      },
      "source": [
        "X = df.drop(['Serial No.','Chance of Admit'],axis = 1)\n",
        "y = df['Chance of Admit']"
      ],
      "execution_count": 33,
      "outputs": []
    },
    {
      "cell_type": "code",
      "metadata": {
        "id": "rhYTxj19xy_R"
      },
      "source": [
        "X_train, X_test, y_train, y_test = train_test_split(X, y, test_size=0.2, random_state=42)"
      ],
      "execution_count": 34,
      "outputs": []
    },
    {
      "cell_type": "markdown",
      "metadata": {
        "id": "2CXoTq9byxH-"
      },
      "source": [
        "## Scaling"
      ]
    },
    {
      "cell_type": "code",
      "metadata": {
        "id": "Irbu1VUGyT0_"
      },
      "source": [
        "from sklearn.preprocessing import MinMaxScaler"
      ],
      "execution_count": 35,
      "outputs": []
    },
    {
      "cell_type": "code",
      "metadata": {
        "id": "H9AVUkccy3PA"
      },
      "source": [
        "scaler = MinMaxScaler()"
      ],
      "execution_count": 36,
      "outputs": []
    },
    {
      "cell_type": "code",
      "metadata": {
        "id": "GF6SxgFFzVx8"
      },
      "source": [
        "X_train_scaled = pd.DataFrame(scaler.fit_transform(X_train), columns=X_train.columns)\n",
        "X_test_scaled = pd.DataFrame(scaler.transform(X_test), columns=X_test.columns)\n",
        "\n",
        "X_train_mat = np.c_[np.ones(X_train.shape[0]), X_train['CGPA']]\n",
        "X_test_mat = np.c_[np.ones(X_test.shape[0]), X_test['CGPA']]\n",
        "\n",
        "X_train_mat_scaled = np.c_[np.ones(X_train_scaled.shape[0]), X_train_scaled['CGPA']]\n",
        "X_test_mat_scaled = np.c_[np.ones(X_test_scaled.shape[0]), X_test_scaled['CGPA']]"
      ],
      "execution_count": 37,
      "outputs": []
    },
    {
      "cell_type": "code",
      "metadata": {
        "colab": {
          "base_uri": "https://localhost:8080/"
        },
        "id": "YlS_X2cyzicd",
        "outputId": "7b52b8e9-5c38-43b9-896d-b4892ae3e214"
      },
      "source": [
        "X_train_mat_scaled"
      ],
      "execution_count": 38,
      "outputs": [
        {
          "output_type": "execute_result",
          "data": {
            "text/plain": [
              "array([[1.        , 0.28782288],\n",
              "       [1.        , 0.49815498],\n",
              "       [1.        , 0.46125461],\n",
              "       [1.        , 0.29520295],\n",
              "       [1.        , 0.25461255],\n",
              "       [1.        , 0.17343173],\n",
              "       [1.        , 0.3800738 ],\n",
              "       [1.        , 0.72693727],\n",
              "       [1.        , 0.74538745],\n",
              "       [1.        , 0.16236162],\n",
              "       [1.        , 0.53505535],\n",
              "       [1.        , 0.37638376],\n",
              "       [1.        , 0.53505535],\n",
              "       [1.        , 0.39483395],\n",
              "       [1.        , 0.29520295],\n",
              "       [1.        , 0.74538745],\n",
              "       [1.        , 0.73062731],\n",
              "       [1.        , 0.29520295],\n",
              "       [1.        , 0.25830258],\n",
              "       [1.        , 0.58302583],\n",
              "       [1.        , 0.31734317],\n",
              "       [1.        , 0.16236162],\n",
              "       [1.        , 0.46863469],\n",
              "       [1.        , 0.67896679],\n",
              "       [1.        , 0.64944649],\n",
              "       [1.        , 0.96678967],\n",
              "       [1.        , 0.50553506],\n",
              "       [1.        , 0.36900369],\n",
              "       [1.        , 0.84870849],\n",
              "       [1.        , 0.3099631 ],\n",
              "       [1.        , 0.25092251],\n",
              "       [1.        , 0.37269373],\n",
              "       [1.        , 0.68634686],\n",
              "       [1.        , 0.54612546],\n",
              "       [1.        , 0.5904059 ],\n",
              "       [1.        , 0.49815498],\n",
              "       [1.        , 0.88560886],\n",
              "       [1.        , 0.35424354],\n",
              "       [1.        , 0.01845018],\n",
              "       [1.        , 0.64944649],\n",
              "       [1.        , 0.76752768],\n",
              "       [1.        , 0.32841328],\n",
              "       [1.        , 0.39114391],\n",
              "       [1.        , 0.56457565],\n",
              "       [1.        , 0.50184502],\n",
              "       [1.        , 0.74907749],\n",
              "       [1.        , 0.78114727],\n",
              "       [1.        , 0.77859779],\n",
              "       [1.        , 0.39483395],\n",
              "       [1.        , 0.74907749],\n",
              "       [1.        , 0.66420664],\n",
              "       [1.        , 0.84132841],\n",
              "       [1.        , 0.82656827],\n",
              "       [1.        , 0.41697417],\n",
              "       [1.        , 0.08487085],\n",
              "       [1.        , 0.39483395],\n",
              "       [1.        , 0.45387454],\n",
              "       [1.        , 0.22140221],\n",
              "       [1.        , 0.93726937],\n",
              "       [1.        , 0.7601476 ],\n",
              "       [1.        , 0.38376384],\n",
              "       [1.        , 0.62730627],\n",
              "       [1.        , 0.36900369],\n",
              "       [1.        , 0.50184502],\n",
              "       [1.        , 0.25830258],\n",
              "       [1.        , 0.25830258],\n",
              "       [1.        , 0.16605166],\n",
              "       [1.        , 0.49815498],\n",
              "       [1.        , 0.66420664],\n",
              "       [1.        , 0.70479705],\n",
              "       [1.        , 0.58302583],\n",
              "       [1.        , 0.79704797],\n",
              "       [1.        , 0.49815498],\n",
              "       [1.        , 0.70479705],\n",
              "       [1.        , 0.46494465],\n",
              "       [1.        , 0.05166052],\n",
              "       [1.        , 0.09594096],\n",
              "       [1.        , 0.49077491],\n",
              "       [1.        , 0.1697417 ],\n",
              "       [1.        , 0.36755123],\n",
              "       [1.        , 0.76752768],\n",
              "       [1.        , 0.73431734],\n",
              "       [1.        , 0.1697417 ],\n",
              "       [1.        , 0.94464945],\n",
              "       [1.        , 0.53874539],\n",
              "       [1.        , 0.75276753],\n",
              "       [1.        , 0.70479705],\n",
              "       [1.        , 0.57564576],\n",
              "       [1.        , 0.6199262 ],\n",
              "       [1.        , 0.16605166],\n",
              "       [1.        , 0.900369  ],\n",
              "       [1.        , 0.95940959],\n",
              "       [1.        , 0.11070111],\n",
              "       [1.        , 0.95940959],\n",
              "       [1.        , 0.46863469],\n",
              "       [1.        , 0.67186209],\n",
              "       [1.        , 0.58302583],\n",
              "       [1.        , 0.30258303],\n",
              "       [1.        , 0.27675277],\n",
              "       [1.        , 0.34317343],\n",
              "       [1.        , 0.57564576],\n",
              "       [1.        , 0.55719557],\n",
              "       [1.        , 0.82287823],\n",
              "       [1.        , 0.54243542],\n",
              "       [1.        , 0.34686347],\n",
              "       [1.        , 0.53505535],\n",
              "       [1.        , 0.45387454],\n",
              "       [1.        , 0.70479705],\n",
              "       [1.        , 0.30627306],\n",
              "       [1.        , 0.49446494],\n",
              "       [1.        , 0.29520295],\n",
              "       [1.        , 0.79704797],\n",
              "       [1.        , 0.1697417 ],\n",
              "       [1.        , 0.53136531],\n",
              "       [1.        , 0.5904059 ],\n",
              "       [1.        , 0.36162362],\n",
              "       [1.        , 0.53505535],\n",
              "       [1.        , 0.18450185],\n",
              "       [1.        , 0.70110701],\n",
              "       [1.        , 0.46125461],\n",
              "       [1.        , 0.72324723],\n",
              "       [1.        , 0.81918819],\n",
              "       [1.        , 0.46125461],\n",
              "       [1.        , 0.41328413],\n",
              "       [1.        , 0.16605166],\n",
              "       [1.        , 0.70848708],\n",
              "       [1.        , 0.60516605],\n",
              "       [1.        , 0.42066421],\n",
              "       [1.        , 0.39114391],\n",
              "       [1.        , 0.90774908],\n",
              "       [1.        , 0.53136531],\n",
              "       [1.        , 0.22140221],\n",
              "       [1.        , 0.50184502],\n",
              "       [1.        , 0.70848708],\n",
              "       [1.        , 0.36755123],\n",
              "       [1.        , 0.49446494],\n",
              "       [1.        , 1.        ],\n",
              "       [1.        , 0.53505535],\n",
              "       [1.        , 0.54243542],\n",
              "       [1.        , 0.33948339],\n",
              "       [1.        , 0.09594096],\n",
              "       [1.        , 0.71586716],\n",
              "       [1.        , 0.66789668],\n",
              "       [1.        , 0.36755123],\n",
              "       [1.        , 0.42804428],\n",
              "       [1.        , 0.45387454],\n",
              "       [1.        , 0.58671587],\n",
              "       [1.        , 0.66420664],\n",
              "       [1.        , 0.33210332],\n",
              "       [1.        , 0.79335793],\n",
              "       [1.        , 0.56088561],\n",
              "       [1.        , 0.33948339],\n",
              "       [1.        , 0.33210332],\n",
              "       [1.        , 0.53874539],\n",
              "       [1.        , 0.57933579],\n",
              "       [1.        , 0.53136531],\n",
              "       [1.        , 0.35055351],\n",
              "       [1.        , 0.08487085],\n",
              "       [1.        , 0.46125461],\n",
              "       [1.        , 0.69372694],\n",
              "       [1.        , 0.69372694],\n",
              "       [1.        , 0.70110701],\n",
              "       [1.        , 0.72693727],\n",
              "       [1.        , 0.53136531],\n",
              "       [1.        , 0.36162362],\n",
              "       [1.        , 0.36755123],\n",
              "       [1.        , 0.60147601],\n",
              "       [1.        , 0.65682657],\n",
              "       [1.        , 0.8302583 ],\n",
              "       [1.        , 0.50184502],\n",
              "       [1.        , 0.29520295],\n",
              "       [1.        , 0.36755123],\n",
              "       [1.        , 0.03690037],\n",
              "       [1.        , 0.61623616],\n",
              "       [1.        , 0.47232472],\n",
              "       [1.        , 0.24354244],\n",
              "       [1.        , 0.70479705],\n",
              "       [1.        , 0.62361624],\n",
              "       [1.        , 0.74907749],\n",
              "       [1.        , 0.49077491],\n",
              "       [1.        , 0.64944649],\n",
              "       [1.        , 0.29520295],\n",
              "       [1.        , 0.47232472],\n",
              "       [1.        , 0.54243542],\n",
              "       [1.        , 0.46125461],\n",
              "       [1.        , 0.5904059 ],\n",
              "       [1.        , 0.4797048 ],\n",
              "       [1.        , 0.66420664],\n",
              "       [1.        , 0.71586716],\n",
              "       [1.        , 0.42804428],\n",
              "       [1.        , 0.25461255],\n",
              "       [1.        , 0.7896679 ],\n",
              "       [1.        , 0.57564576],\n",
              "       [1.        , 0.13284133],\n",
              "       [1.        , 0.38745387],\n",
              "       [1.        , 0.32103321],\n",
              "       [1.        , 0.54243542],\n",
              "       [1.        , 0.4501845 ],\n",
              "       [1.        , 0.72324723],\n",
              "       [1.        , 0.46494465],\n",
              "       [1.        , 0.50184502],\n",
              "       [1.        , 0.4797048 ],\n",
              "       [1.        , 0.60885609],\n",
              "       [1.        , 0.88560886],\n",
              "       [1.        , 0.8302583 ],\n",
              "       [1.        , 0.36755123],\n",
              "       [1.        , 0.35793358],\n",
              "       [1.        , 0.        ],\n",
              "       [1.        , 0.51660517],\n",
              "       [1.        , 0.73431734],\n",
              "       [1.        , 0.71586716],\n",
              "       [1.        , 0.75276753],\n",
              "       [1.        , 0.41697417],\n",
              "       [1.        , 0.83763838],\n",
              "       [1.        , 0.79704797],\n",
              "       [1.        , 0.55350554],\n",
              "       [1.        , 0.69372694],\n",
              "       [1.        , 0.94464945],\n",
              "       [1.        , 0.51660517],\n",
              "       [1.        , 0.67158672],\n",
              "       [1.        , 0.40590406],\n",
              "       [1.        , 0.24354244],\n",
              "       [1.        , 0.36900369],\n",
              "       [1.        , 0.62730627],\n",
              "       [1.        , 0.45756458],\n",
              "       [1.        , 0.58671587],\n",
              "       [1.        , 0.67158672],\n",
              "       [1.        , 0.34317343],\n",
              "       [1.        , 0.67896679],\n",
              "       [1.        , 0.90774908],\n",
              "       [1.        , 0.71217712],\n",
              "       [1.        , 0.5904059 ],\n",
              "       [1.        , 0.74907749],\n",
              "       [1.        , 0.7896679 ],\n",
              "       [1.        , 0.22140221],\n",
              "       [1.        , 0.42804428],\n",
              "       [1.        , 0.3099631 ],\n",
              "       [1.        , 0.47601476],\n",
              "       [1.        , 0.25461255],\n",
              "       [1.        , 0.78114727],\n",
              "       [1.        , 0.81180812],\n",
              "       [1.        , 0.46125461],\n",
              "       [1.        , 0.48708487],\n",
              "       [1.        , 0.4797048 ],\n",
              "       [1.        , 0.35793358],\n",
              "       [1.        , 0.83394834],\n",
              "       [1.        , 0.29520295],\n",
              "       [1.        , 0.29520295],\n",
              "       [1.        , 0.40590406],\n",
              "       [1.        , 0.74538745],\n",
              "       [1.        , 0.68634686],\n",
              "       [1.        , 0.73800738],\n",
              "       [1.        , 0.24354244],\n",
              "       [1.        , 0.25092251],\n",
              "       [1.        , 0.33210332],\n",
              "       [1.        , 0.29889299],\n",
              "       [1.        , 0.49815498],\n",
              "       [1.        , 0.36900369],\n",
              "       [1.        , 0.30258303],\n",
              "       [1.        , 0.26568266],\n",
              "       [1.        , 0.58671587],\n",
              "       [1.        , 0.3099631 ],\n",
              "       [1.        , 0.46494465],\n",
              "       [1.        , 0.67186209],\n",
              "       [1.        , 0.35424354],\n",
              "       [1.        , 0.29889299],\n",
              "       [1.        , 0.7195572 ],\n",
              "       [1.        , 0.53874539],\n",
              "       [1.        , 0.50553506],\n",
              "       [1.        , 0.18450185],\n",
              "       [1.        , 0.25830258],\n",
              "       [1.        , 0.39483395],\n",
              "       [1.        , 0.57564576],\n",
              "       [1.        , 0.8302583 ],\n",
              "       [1.        , 0.64206642],\n",
              "       [1.        , 0.65313653],\n",
              "       [1.        , 0.33210332],\n",
              "       [1.        , 0.67186209],\n",
              "       [1.        , 0.57933579],\n",
              "       [1.        , 0.57564576],\n",
              "       [1.        , 0.71217712],\n",
              "       [1.        , 0.84870849],\n",
              "       [1.        , 0.41697417],\n",
              "       [1.        , 0.66789668],\n",
              "       [1.        , 0.7601476 ],\n",
              "       [1.        , 0.39114391],\n",
              "       [1.        , 0.49815498],\n",
              "       [1.        , 0.33948339],\n",
              "       [1.        , 0.54612546],\n",
              "       [1.        , 0.5498155 ],\n",
              "       [1.        , 0.57195572],\n",
              "       [1.        , 0.50184502],\n",
              "       [1.        , 0.5498155 ],\n",
              "       [1.        , 0.89298893],\n",
              "       [1.        , 0.33948339],\n",
              "       [1.        , 0.57564576],\n",
              "       [1.        , 0.38376384],\n",
              "       [1.        , 0.57195572],\n",
              "       [1.        , 0.49815498],\n",
              "       [1.        , 0.90774908],\n",
              "       [1.        , 0.44280443],\n",
              "       [1.        , 0.8597786 ],\n",
              "       [1.        , 0.67896679],\n",
              "       [1.        , 0.80442804],\n",
              "       [1.        , 0.56457565],\n",
              "       [1.        , 0.86346863],\n",
              "       [1.        , 0.68265683]])"
            ]
          },
          "metadata": {
            "tags": []
          },
          "execution_count": 38
        }
      ]
    },
    {
      "cell_type": "markdown",
      "metadata": {
        "id": "TZKOmQiitt5z"
      },
      "source": [
        "## Performing Linear Regression Using the Normal Equation\n",
        "\n",
        "![NormalEquation.jpg](data:image/jpeg;base64,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)\n"
      ]
    },
    {
      "cell_type": "code",
      "metadata": {
        "colab": {
          "base_uri": "https://localhost:8080/"
        },
        "id": "iaRYx10nuINl",
        "outputId": "edd7fed9-0644-4d45-c3ba-6fa91a62ae1f"
      },
      "source": [
        "from numpy.linalg import inv\n",
        "\n",
        "X_train_transpose = np.transpose(X_train_mat)\n",
        "theta = np.matmul(np.matmul(inv(np.matmul(X_train_transpose, X_train_mat)),X_train_transpose),y_train)\n",
        "\n",
        "X_train_transpose = np.transpose(X_train_mat_scaled)\n",
        "theta_scaled = np.matmul(np.matmul(inv(np.matmul(X_train_transpose, X_train_mat_scaled)),X_train_transpose),y_train)\n",
        "\n",
        "# with non scaled train set\n",
        "print(theta)\n",
        "print('='*50)\n",
        "# with scaled train set\n",
        "print(theta_scaled)"
      ],
      "execution_count": 39,
      "outputs": [
        {
          "output_type": "stream",
          "text": [
            "[-1.11468397  0.21383338]\n",
            "==================================================\n",
            "[0.42491634 0.57948845]\n"
          ],
          "name": "stdout"
        }
      ]
    },
    {
      "cell_type": "markdown",
      "metadata": {
        "id": "Mjx-Q_uHSlZf"
      },
      "source": [
        "### Plotting Predictor fucntion on scatter plot of data set"
      ]
    },
    {
      "cell_type": "code",
      "metadata": {
        "id": "a0MY7YitSlZf"
      },
      "source": [
        "def predict(theta, data):\n",
        "  return np.matmul(data,theta)"
      ],
      "execution_count": 40,
      "outputs": []
    },
    {
      "cell_type": "code",
      "metadata": {
        "id": "1PQOwDhUSlZf",
        "colab": {
          "base_uri": "https://localhost:8080/",
          "height": 279
        },
        "outputId": "8ff63035-717f-4feb-a430-45ad6ef89ea7"
      },
      "source": [
        "# scatter plot of training set\n",
        "plt.scatter(X_train_scaled['CGPA'], y_train,c='yellow')\n",
        "\n",
        "# predictor function (a line)\n",
        "plt.plot(X_train_scaled['CGPA'], predict(theta_scaled, X_train_mat_scaled), c='r')\n",
        "\n",
        "plt.xlabel('CGPA (scaled)')\n",
        "plt.ylabel('Chance of Admit')\n",
        "plt.show()"
      ],
      "execution_count": 41,
      "outputs": [
        {
          "output_type": "display_data",
          "data": {
            "image/png": "[encoded data removed]",
            "text/plain": [
              "<Figure size 432x288 with 1 Axes>"
            ]
          },
          "metadata": {
            "tags": [],
            "needs_background": "light"
          }
        }
      ]
    },
    {
      "cell_type": "code",
      "metadata": {
        "id": "IIYPOEopSlZg",
        "colab": {
          "base_uri": "https://localhost:8080/",
          "height": 279
        },
        "outputId": "6e387f6c-d86e-4a7a-a88f-c47ed72331a4"
      },
      "source": [
        "# scatter plot of test set\n",
        "plt.scatter(X_test_scaled['CGPA'], y_test)\n",
        "\n",
        "# output of predictor function (a line)\n",
        "plt.plot(X_test_scaled['CGPA'], predict(theta_scaled, X_test_mat_scaled), c='green')\n",
        "\n",
        "plt.xlabel('CGPA (scaled)')\n",
        "plt.ylabel('Chance of Admit')\n",
        "plt.show()"
      ],
      "execution_count": 42,
      "outputs": [
        {
          "output_type": "display_data",
          "data": {
            "image/png": "[encoded data removed]",
            "text/plain": [
              "<Figure size 432x288 with 1 Axes>"
            ]
          },
          "metadata": {
            "tags": [],
            "needs_background": "light"
          }
        }
      ]
    },
    {
      "cell_type": "markdown",
      "metadata": {
        "id": "KEixPXGT9Ms9"
      },
      "source": [
        "### Evaluating the model"
      ]
    },
    {
      "cell_type": "code",
      "metadata": {
        "id": "qqjELNjPvHBB"
      },
      "source": [
        "from sklearn.metrics import mean_squared_error,explained_variance_score"
      ],
      "execution_count": 43,
      "outputs": []
    },
    {
      "cell_type": "code",
      "metadata": {
        "id": "X1m2Nfj4SlZk"
      },
      "source": [
        "predictions_scaled = predict(theta_scaled, X_test_mat_scaled)\n",
        "predictions = predict(theta, X_test_mat)"
      ],
      "execution_count": 44,
      "outputs": []
    },
    {
      "cell_type": "markdown",
      "metadata": {
        "id": "vhxyU1UCSlZk"
      },
      "source": [
        "### evaluation without scaling"
      ]
    },
    {
      "cell_type": "code",
      "metadata": {
        "colab": {
          "base_uri": "https://localhost:8080/"
        },
        "id": "FqBR-4sP6eRV",
        "outputId": "a032c5d2-ef8c-4c65-d403-70bf02f528da"
      },
      "source": [
        "np.sqrt(mean_squared_error(y_test,predictions))"
      ],
      "execution_count": 45,
      "outputs": [
        {
          "output_type": "execute_result",
          "data": {
            "text/plain": [
              "0.09045138251027339"
            ]
          },
          "metadata": {
            "tags": []
          },
          "execution_count": 45
        }
      ]
    },
    {
      "cell_type": "code",
      "metadata": {
        "colab": {
          "base_uri": "https://localhost:8080/"
        },
        "id": "yeYsF8CN6iY0",
        "outputId": "7671f08e-3c84-402b-9854-b2ab4b201dcb"
      },
      "source": [
        "explained_variance_score(y_test,predictions)"
      ],
      "execution_count": 46,
      "outputs": [
        {
          "output_type": "execute_result",
          "data": {
            "text/plain": [
              "0.667789910121453"
            ]
          },
          "metadata": {
            "tags": []
          },
          "execution_count": 46
        }
      ]
    },
    {
      "cell_type": "markdown",
      "metadata": {
        "id": "JBZKJ33sSlZl"
      },
      "source": [
        "### evaluation with scaling"
      ]
    },
    {
      "cell_type": "code",
      "metadata": {
        "id": "iKbYR6zaSlZl",
        "colab": {
          "base_uri": "https://localhost:8080/"
        },
        "outputId": "1de6767e-46b4-4165-f1da-68cde40d3b39"
      },
      "source": [
        "np.sqrt(mean_squared_error(y_test,predictions_scaled))"
      ],
      "execution_count": 47,
      "outputs": [
        {
          "output_type": "execute_result",
          "data": {
            "text/plain": [
              "0.0904513825102781"
            ]
          },
          "metadata": {
            "tags": []
          },
          "execution_count": 47
        }
      ]
    },
    {
      "cell_type": "code",
      "metadata": {
        "id": "cYrkfrVfSlZl",
        "colab": {
          "base_uri": "https://localhost:8080/"
        },
        "outputId": "f3cb4404-61e4-484f-894c-6843fa7cae0f"
      },
      "source": [
        "explained_variance_score(y_test,predictions_scaled)"
      ],
      "execution_count": 48,
      "outputs": [
        {
          "output_type": "execute_result",
          "data": {
            "text/plain": [
              "0.6677899101214168"
            ]
          },
          "metadata": {
            "tags": []
          },
          "execution_count": 48
        }
      ]
    },
    {
      "cell_type": "markdown",
      "metadata": {
        "id": "-_q_XIz4Vmh9"
      },
      "source": [
        "### Using Scikit Learn (only scaled values)"
      ]
    },
    {
      "cell_type": "code",
      "metadata": {
        "colab": {
          "base_uri": "https://localhost:8080/"
        },
        "id": "N_jjC58p85Hn",
        "outputId": "4409a5ae-85b8-439a-c906-f7bad04f6a50"
      },
      "source": [
        "from sklearn.linear_model import LinearRegression\n",
        "reg = LinearRegression().fit(pd.DataFrame(X_train_scaled['CGPA']), y_train)\n",
        "predictions = reg.predict(pd.DataFrame(X_test_scaled['CGPA']))\n",
        "predictions"
      ],
      "execution_count": 49,
      "outputs": [
        {
          "output_type": "execute_result",
          "data": {
            "text/plain": [
              "array([0.72855973, 0.7584964 , 0.57032303, 0.45485301, 0.33938299,\n",
              "       0.5874297 , 0.98088311, 0.71359139, 0.69006972, 0.81409308,\n",
              "       0.95522311, 0.9295631 , 0.71145306, 0.66868638, 0.66868638,\n",
              "       0.63019638, 0.66868638, 0.71145306, 0.77560307, 0.67510138,\n",
              "       0.83119975, 0.59598304, 0.68151639, 0.5617697 , 0.7456664 ,\n",
              "       0.46768301, 0.65157971, 0.60239804, 0.94880811, 0.75421973,\n",
              "       0.87758215, 0.76704974, 0.7649114 , 0.6002597 , 0.84189142,\n",
              "       0.73711306, 0.74138973, 0.95949977, 0.69006972, 0.83119975,\n",
              "       0.90604143, 0.81836975, 0.44202301, 0.70289972, 0.9039031 ,\n",
              "       0.95949977, 0.89534976, 0.45912968, 0.60239804, 0.66013305,\n",
              "       0.66013305, 0.78843307, 0.56604636, 0.99585145, 0.83119975,\n",
              "       0.58956803, 0.88679643, 0.71572973, 0.71359139, 0.68579305,\n",
              "       0.87396642, 0.7328364 , 0.49761968, 0.64302638, 0.67510138,\n",
              "       0.66654805, 0.48051301, 0.87824309, 0.81836975, 0.64088804,\n",
              "       0.70289972, 0.7328364 , 0.84830642, 0.83761475, 0.79270974,\n",
              "       0.52755636, 0.68579305])"
            ]
          },
          "metadata": {
            "tags": []
          },
          "execution_count": 49
        }
      ]
    },
    {
      "cell_type": "markdown",
      "metadata": {
        "id": "FY4Rwgj2SlZl"
      },
      "source": [
        "### Plotting"
      ]
    },
    {
      "cell_type": "code",
      "metadata": {
        "id": "yBGPGCimSlZl",
        "colab": {
          "base_uri": "https://localhost:8080/",
          "height": 279
        },
        "outputId": "d478d316-1f61-4fbc-f5b4-2e931e388ad6"
      },
      "source": [
        "# scatter plot of test set\n",
        "plt.scatter(X_test_scaled['CGPA'], y_test)\n",
        "\n",
        "# output of predictor function (a line)\n",
        "plt.plot(X_test_scaled['CGPA'], predictions, c='green')\n",
        "\n",
        "plt.xlabel('CGPA (scaled)')\n",
        "plt.ylabel('Chance of Admit')\n",
        "plt.show()"
      ],
      "execution_count": 50,
      "outputs": [
        {
          "output_type": "display_data",
          "data": {
            "image/png": "[encoded data removed]",
            "text/plain": [
              "<Figure size 432x288 with 1 Axes>"
            ]
          },
          "metadata": {
            "tags": [],
            "needs_background": "light"
          }
        }
      ]
    },
    {
      "cell_type": "markdown",
      "metadata": {
        "id": "Yt7inwLOSlZl"
      },
      "source": [
        "### Evaluation"
      ]
    },
    {
      "cell_type": "code",
      "metadata": {
        "colab": {
          "base_uri": "https://localhost:8080/"
        },
        "id": "xvA8tsF3-wMC",
        "outputId": "40405739-251f-4928-9c7f-758106fa99b7"
      },
      "source": [
        "np.sqrt(mean_squared_error(y_test,predictions))"
      ],
      "execution_count": 51,
      "outputs": [
        {
          "output_type": "execute_result",
          "data": {
            "text/plain": [
              "0.09045138251027808"
            ]
          },
          "metadata": {
            "tags": []
          },
          "execution_count": 51
        }
      ]
    },
    {
      "cell_type": "code",
      "metadata": {
        "id": "ynty1O9A-zPU",
        "colab": {
          "base_uri": "https://localhost:8080/"
        },
        "outputId": "4ce38186-de40-49a3-eac2-2ace02c88b27"
      },
      "source": [
        "explained_variance_score(y_test,predictions)"
      ],
      "execution_count": 52,
      "outputs": [
        {
          "output_type": "execute_result",
          "data": {
            "text/plain": [
              "0.6677899101214173"
            ]
          },
          "metadata": {
            "tags": []
          },
          "execution_count": 52
        }
      ]
    },
    {
      "cell_type": "markdown",
      "metadata": {
        "id": "PiiD63vCSlZm"
      },
      "source": [
        "## Training Model with 3 features"
      ]
    },
    {
      "cell_type": "markdown",
      "metadata": {
        "id": "ziEz7WI8SlZm"
      },
      "source": [
        "### we choose 'CGPA', 'GRE Score' and 'TOEFL Score' as 3 features"
      ]
    },
    {
      "cell_type": "code",
      "metadata": {
        "id": "iENpwV0DSlZm",
        "colab": {
          "base_uri": "https://localhost:8080/"
        },
        "outputId": "517352a9-58b1-4890-d019-4c5ea0543cbd"
      },
      "source": [
        "reg = LinearRegression().fit(X_train_scaled[['GRE Score', 'TOEFL Score', 'CGPA']], y_train)\n",
        "predictions = reg.predict(X_test_scaled[['GRE Score', 'TOEFL Score', 'CGPA']])\n",
        "predictions"
      ],
      "execution_count": 53,
      "outputs": [
        {
          "output_type": "execute_result",
          "data": {
            "text/plain": [
              "array([0.72476773, 0.7643534 , 0.5342631 , 0.44751534, 0.37978076,\n",
              "       0.57304369, 0.96023504, 0.66088914, 0.70831422, 0.82484739,\n",
              "       0.95674097, 0.94112815, 0.71470286, 0.70452154, 0.64136751,\n",
              "       0.60490541, 0.67420525, 0.72856302, 0.77018938, 0.66693167,\n",
              "       0.85062006, 0.63085835, 0.71143778, 0.55739525, 0.74016375,\n",
              "       0.5219926 , 0.65283892, 0.57636422, 0.96237998, 0.74908767,\n",
              "       0.81904258, 0.77253129, 0.76489842, 0.6155005 , 0.84812869,\n",
              "       0.75195882, 0.73698113, 0.97726659, 0.70916712, 0.8246062 ,\n",
              "       0.93311258, 0.77436641, 0.44578611, 0.71441482, 0.90817233,\n",
              "       0.96429495, 0.92519168, 0.44287934, 0.56858124, 0.65159768,\n",
              "       0.66640753, 0.76246544, 0.57635597, 0.99308857, 0.83587203,\n",
              "       0.57115214, 0.89458898, 0.76120738, 0.73015433, 0.66447527,\n",
              "       0.87896397, 0.73658623, 0.48019435, 0.63176064, 0.6642661 ,\n",
              "       0.68473268, 0.51160309, 0.86483919, 0.8176527 , 0.6474411 ,\n",
              "       0.66330993, 0.74884745, 0.85464403, 0.82678579, 0.80463421,\n",
              "       0.51292117, 0.68867712])"
            ]
          },
          "metadata": {
            "tags": []
          },
          "execution_count": 53
        }
      ]
    },
    {
      "cell_type": "markdown",
      "metadata": {
        "id": "mUcBbxA7SlZm"
      },
      "source": [
        "### Plotting\n"
      ]
    },
    {
      "cell_type": "code",
      "metadata": {
        "id": "FIZ7yeg1TdZN",
        "colab": {
          "base_uri": "https://localhost:8080/",
          "height": 279
        },
        "outputId": "289b19a8-965f-4a61-cbb6-50bcc0ff0673"
      },
      "source": [
        "import seaborn as sns\n",
        "# scatter plot of test set\n",
        "plt.plot(y_test,y_test,'r')\n",
        "\n",
        "# output of predictor function (a line)\n",
        "plt.scatter(y_test, predictions, c='green')\n",
        "\n",
        "plt.xlabel('Actual Chance')\n",
        "plt.ylabel('Prediction')\n",
        "plt.show()"
      ],
      "execution_count": 90,
      "outputs": [
        {
          "output_type": "display_data",
          "data": {
            "image/png": "[encoded data removed]",
            "text/plain": [
              "<Figure size 432x288 with 1 Axes>"
            ]
          },
          "metadata": {
            "tags": [],
            "needs_background": "light"
          }
        }
      ]
    },
    {
      "cell_type": "markdown",
      "metadata": {
        "id": "m6oHqJnqSlZm"
      },
      "source": [
        "### Evaluation"
      ]
    },
    {
      "cell_type": "markdown",
      "metadata": {
        "id": "lSRWmossSlZm"
      },
      "source": [
        "#### as results below shows, MSE is lower than former part which means our model is predicting better"
      ]
    },
    {
      "cell_type": "code",
      "metadata": {
        "id": "1u6D-VhPSlZn",
        "colab": {
          "base_uri": "https://localhost:8080/"
        },
        "outputId": "62334049-0778-44c1-8b1d-da8f19dc4a01"
      },
      "source": [
        "np.sqrt(mean_squared_error(y_test,predictions))"
      ],
      "execution_count": 55,
      "outputs": [
        {
          "output_type": "execute_result",
          "data": {
            "text/plain": [
              "0.08369232434585369"
            ]
          },
          "metadata": {
            "tags": []
          },
          "execution_count": 55
        }
      ]
    },
    {
      "cell_type": "code",
      "metadata": {
        "id": "CTQA5MndSlZn",
        "colab": {
          "base_uri": "https://localhost:8080/"
        },
        "outputId": "46c59aa1-24ca-459d-8287-9474e63b0628"
      },
      "source": [
        "explained_variance_score(y_test,predictions)"
      ],
      "execution_count": 56,
      "outputs": [
        {
          "output_type": "execute_result",
          "data": {
            "text/plain": [
              "0.7163603184884166"
            ]
          },
          "metadata": {
            "tags": []
          },
          "execution_count": 56
        }
      ]
    },
    {
      "cell_type": "markdown",
      "metadata": {
        "id": "JP8hivI6SlZn"
      },
      "source": [
        "## Training Model with all features of training set"
      ]
    },
    {
      "cell_type": "code",
      "metadata": {
        "id": "crzkWjmQSlZn",
        "colab": {
          "base_uri": "https://localhost:8080/"
        },
        "outputId": "b721f8ce-30d2-4e88-948d-85e0c36c190e"
      },
      "source": [
        "reg = LinearRegression().fit(X_train_scaled, y_train)\n",
        "predictions = reg.predict(X_test_scaled)\n",
        "predictions"
      ],
      "execution_count": 57,
      "outputs": [
        {
          "output_type": "execute_result",
          "data": {
            "text/plain": [
              "array([0.69258208, 0.81044288, 0.51310898, 0.45419164, 0.41815956,\n",
              "       0.58656033, 0.96835885, 0.66388966, 0.73442086, 0.79897339,\n",
              "       0.94701322, 0.95539983, 0.71502732, 0.74225043, 0.67048096,\n",
              "       0.60906844, 0.64987854, 0.72660227, 0.78182432, 0.70040323,\n",
              "       0.83204485, 0.65202882, 0.7370366 , 0.56705457, 0.71456166,\n",
              "       0.54450931, 0.66018763, 0.59050255, 0.95158175, 0.75348727,\n",
              "       0.7898388 , 0.7682848 , 0.72111588, 0.63795012, 0.81181554,\n",
              "       0.78457268, 0.73335528, 0.93813201, 0.64606667, 0.81306901,\n",
              "       0.93743907, 0.80528176, 0.48915406, 0.69371513, 0.89432217,\n",
              "       0.96177364, 0.92125878, 0.44221111, 0.57322734, 0.61250893,\n",
              "       0.70244802, 0.77584558, 0.55531143, 0.99406201, 0.80993688,\n",
              "       0.54892312, 0.90795649, 0.76566316, 0.75064753, 0.63427477,\n",
              "       0.90600008, 0.77946092, 0.50299323, 0.64243595, 0.6647382 ,\n",
              "       0.68195785, 0.50693471, 0.83263111, 0.80717519, 0.63238343,\n",
              "       0.65395333, 0.72136173, 0.86819596, 0.85715903, 0.78372048,\n",
              "       0.52043994, 0.68695355])"
            ]
          },
          "metadata": {
            "tags": []
          },
          "execution_count": 57
        }
      ]
    },
    {
      "cell_type": "markdown",
      "metadata": {
        "id": "haIt5SuBSlZn"
      },
      "source": [
        "### Plotting"
      ]
    },
    {
      "cell_type": "code",
      "metadata": {
        "colab": {
          "base_uri": "https://localhost:8080/",
          "height": 279
        },
        "id": "XNFw2hVVV9-V",
        "outputId": "0b4b1cc2-df9f-41fb-f6c1-5ccfdde709c4"
      },
      "source": [
        "# scatter plot of test set\n",
        "plt.plot(y_test,y_test,'r')\n",
        "\n",
        "# output of predictor function (a line)\n",
        "plt.scatter(y_test, predictions, c='green')\n",
        "\n",
        "plt.xlabel('Actual Chance')\n",
        "plt.ylabel('Prediction')\n",
        "plt.show()"
      ],
      "execution_count": 91,
      "outputs": [
        {
          "output_type": "display_data",
          "data": {
            "image/png": "[encoded data removed]",
            "text/plain": [
              "<Figure size 432x288 with 1 Axes>"
            ]
          },
          "metadata": {
            "tags": [],
            "needs_background": "light"
          }
        }
      ]
    },
    {
      "cell_type": "markdown",
      "metadata": {
        "id": "TeWLdhEKSlZn"
      },
      "source": [
        "### Evaluation"
      ]
    },
    {
      "cell_type": "markdown",
      "metadata": {
        "id": "RQjRl_ypSlZn"
      },
      "source": [
        "#### as results below shows, MSE is lower than former part which means our model is predicting better"
      ]
    },
    {
      "cell_type": "code",
      "metadata": {
        "id": "ALjOhOpkSlZn",
        "colab": {
          "base_uri": "https://localhost:8080/"
        },
        "outputId": "3f081640-a55a-454c-8fc6-02da7123a8f1"
      },
      "source": [
        "np.sqrt(mean_squared_error(y_test,predictions))"
      ],
      "execution_count": 59,
      "outputs": [
        {
          "output_type": "execute_result",
          "data": {
            "text/plain": [
              "0.08358009329950628"
            ]
          },
          "metadata": {
            "tags": []
          },
          "execution_count": 59
        }
      ]
    },
    {
      "cell_type": "code",
      "metadata": {
        "id": "LoEHvrh1SlZn",
        "colab": {
          "base_uri": "https://localhost:8080/"
        },
        "outputId": "af8f10e9-6e06-4ded-bcc6-2e5e645f14a6"
      },
      "source": [
        "explained_variance_score(y_test,predictions)"
      ],
      "execution_count": 60,
      "outputs": [
        {
          "output_type": "execute_result",
          "data": {
            "text/plain": [
              "0.7176123476324897"
            ]
          },
          "metadata": {
            "tags": []
          },
          "execution_count": 60
        }
      ]
    },
    {
      "cell_type": "markdown",
      "metadata": {
        "id": "0ECiwmlLSlZo"
      },
      "source": [
        "# Section 2"
      ]
    },
    {
      "cell_type": "code",
      "metadata": {
        "id": "xjqyJQv-SlZo",
        "colab": {
          "base_uri": "https://localhost:8080/",
          "height": 296
        },
        "outputId": "f56062b1-da5a-43d7-b63e-1e3c6721fa51"
      },
      "source": [
        "sample_size = 250\n",
        "X = np.random.uniform(size=sample_size)\n",
        "y = 5 * np.sin(X * 2 * np.pi)\n",
        "y = y + np.random.normal(size=sample_size, loc=1)\n",
        "\n",
        "plt.scatter(X, y)\n",
        "plt.xlabel('X')\n",
        "plt.ylabel('y')"
      ],
      "execution_count": 61,
      "outputs": [
        {
          "output_type": "execute_result",
          "data": {
            "text/plain": [
              "Text(0, 0.5, 'y')"
            ]
          },
          "metadata": {
            "tags": []
          },
          "execution_count": 61
        },
        {
          "output_type": "display_data",
          "data": {
            "image/png": "[encoded data removed]",
            "text/plain": [
              "<Figure size 432x288 with 1 Axes>"
            ]
          },
          "metadata": {
            "tags": [],
            "needs_background": "light"
          }
        }
      ]
    },
    {
      "cell_type": "markdown",
      "metadata": {
        "id": "m7zY_x-2SlZo"
      },
      "source": [
        "#### degree 1"
      ]
    },
    {
      "cell_type": "code",
      "metadata": {
        "id": "hoJmGnMhSlZo",
        "colab": {
          "base_uri": "https://localhost:8080/"
        },
        "outputId": "bcc363e1-2243-42aa-e2ce-0d50b6b8d5c8"
      },
      "source": [
        "df = pd.DataFrame(np.c_[np.ones(sample_size), X], columns=[0,1])\n",
        "x_train, x_test, y_train, y_test = train_test_split(df, y, test_size=0.2, random_state=42)\n",
        "\n",
        "reg = LinearRegression().fit(x_train, y_train)\n",
        "predictions = reg.predict(x_test)\n",
        "predictions"
      ],
      "execution_count": 62,
      "outputs": [
        {
          "output_type": "execute_result",
          "data": {
            "text/plain": [
              "array([-1.60324279,  1.68498026,  4.41799593,  5.19951873,  5.29747951,\n",
              "        3.56144803,  2.12479891,  4.15121652,  2.72833745,  1.12062602,\n",
              "        2.68689078, -2.41698525,  1.14006581,  3.40064082,  3.88352576,\n",
              "        5.39682555,  2.28566063, -0.74475563,  4.484272  ,  2.51893388,\n",
              "       -2.42874836, -1.41324169,  3.77418181,  3.05470066, -3.29964594,\n",
              "       -3.11379662,  0.4934083 ,  2.42387043, -3.12282776, -1.42114315,\n",
              "       -2.72894189, -0.52734725,  3.41523688, -0.688142  ,  4.84029345,\n",
              "       -1.63000505, -2.22559848,  1.21104433,  4.43676321, -0.89577663,\n",
              "        2.06081307,  3.84611454,  2.28629986,  0.04649934,  3.74182472,\n",
              "       -2.63785946,  3.27061852, -1.73458461,  2.23520681,  1.96343772])"
            ]
          },
          "metadata": {
            "tags": []
          },
          "execution_count": 62
        }
      ]
    },
    {
      "cell_type": "markdown",
      "metadata": {
        "id": "rf2xNzg6SlZo"
      },
      "source": [
        "Plotting"
      ]
    },
    {
      "cell_type": "code",
      "metadata": {
        "id": "hDQ0U0gPSlZo",
        "colab": {
          "base_uri": "https://localhost:8080/",
          "height": 334
        },
        "outputId": "2e6e2f0e-6a52-479f-cad2-7f1cd673f85c"
      },
      "source": [
        "fig, axes = plt.subplots(1, 2, figsize=(15,5))\n",
        "\n",
        "# scatter plot of training set\n",
        "axes[0].scatter(x_train[1], y_train, c='yellow')\n",
        "\n",
        "# output of predictor function (a line)\n",
        "axes[0].plot(x_train[1], reg.predict(x_train), c='red')\n",
        "\n",
        "# scatter plot of test set\n",
        "axes[1].scatter(x_test[1], y_test)\n",
        "\n",
        "# output of predictor function (a line)\n",
        "axes[1].plot(x_test[1], predictions, c='green')\n",
        "\n",
        "axes[0].set_xlabel('X(training)')\n",
        "axes[0].set_ylabel('y')\n",
        "axes[1].set_xlabel('X(test)')\n",
        "axes[1].set_ylabel('y')\n",
        "plt.show()"
      ],
      "execution_count": 63,
      "outputs": [
        {
          "output_type": "display_data",
          "data": {
            "image/png": "[encoded data removed]",
            "text/plain": [
              "<Figure size 1080x360 with 2 Axes>"
            ]
          },
          "metadata": {
            "tags": [],
            "needs_background": "light"
          }
        }
      ]
    },
    {
      "cell_type": "markdown",
      "metadata": {
        "id": "i6z5TRyLSlZo"
      },
      "source": [
        "Evaluation"
      ]
    },
    {
      "cell_type": "code",
      "metadata": {
        "id": "IxaQeEKESlZo",
        "colab": {
          "base_uri": "https://localhost:8080/"
        },
        "outputId": "750bfce8-09d7-4d40-be46-e33bf392268c"
      },
      "source": [
        "np.sqrt(mean_squared_error(y_test,predictions))"
      ],
      "execution_count": 64,
      "outputs": [
        {
          "output_type": "execute_result",
          "data": {
            "text/plain": [
              "2.285987474333589"
            ]
          },
          "metadata": {
            "tags": []
          },
          "execution_count": 64
        }
      ]
    },
    {
      "cell_type": "code",
      "metadata": {
        "id": "6xP3LFW6SlZp",
        "colab": {
          "base_uri": "https://localhost:8080/"
        },
        "outputId": "fefce832-8947-4925-ab73-d7a65a0d9534"
      },
      "source": [
        "explained_variance_score(y_test,predictions)"
      ],
      "execution_count": 65,
      "outputs": [
        {
          "output_type": "execute_result",
          "data": {
            "text/plain": [
              "0.6077952835853988"
            ]
          },
          "metadata": {
            "tags": []
          },
          "execution_count": 65
        }
      ]
    },
    {
      "cell_type": "markdown",
      "metadata": {
        "id": "eVA7Z5lzSlZp"
      },
      "source": [
        "#### Degree 3"
      ]
    },
    {
      "cell_type": "code",
      "metadata": {
        "id": "BMkeHR1RSlZp",
        "colab": {
          "base_uri": "https://localhost:8080/"
        },
        "outputId": "27269ead-3c4b-464f-c14a-ac75600d4354"
      },
      "source": [
        "df[2], df[3] = np.power(X, 2), np.power(X, 3)\n",
        "\n",
        "#split\n",
        "x_train, x_test, y_train, y_test = train_test_split(df, y, test_size=0.2, random_state=42)\n",
        "\n",
        "#scaling\n",
        "scaler = MinMaxScaler()\n",
        "x_train = scaler.fit_transform(x_train) + np.array([[1,0,0,0]])\n",
        "x_test = scaler.transform(x_test) + np.array([[1,0,0,0]])\n",
        "\n",
        "#regression\n",
        "reg = LinearRegression().fit(x_train, y_train)\n",
        "predictions = reg.predict(x_test)\n",
        "predictions"
      ],
      "execution_count": 66,
      "outputs": [
        {
          "output_type": "execute_result",
          "data": {
            "text/plain": [
              "array([-3.88348875,  3.37321634,  4.50463859,  1.0957433 ,  0.50282982,\n",
              "        5.92347211,  4.44212364,  5.18067585,  5.52120471,  1.79483108,\n",
              "        5.46508633, -3.11449233,  1.85143893,  5.96555156,  5.63893345,\n",
              "       -0.13914255,  4.78024931, -3.04759801,  4.30066617,  5.20836033,\n",
              "       -3.08968364, -3.82433543,  5.76683986,  5.85301511,  0.03439323,\n",
              "       -0.85933423, -0.04193244,  5.04340118, -0.81892521, -3.82837285,\n",
              "       -2.30807594, -2.63647411,  5.96432414, -2.94700268,  2.94344054,\n",
              "       -3.88527184, -3.45953395,  2.05724365,  4.44837489, -3.29188118,\n",
              "        4.2989193 ,  5.68643708,  4.78152683, -1.28101725,  5.79839002,\n",
              "       -2.57608243,  5.95450015, -3.87604494,  4.67772046,  4.07226621])"
            ]
          },
          "metadata": {
            "tags": []
          },
          "execution_count": 66
        }
      ]
    },
    {
      "cell_type": "markdown",
      "metadata": {
        "id": "yM1wLIcpSlZp"
      },
      "source": [
        "Plotting"
      ]
    },
    {
      "cell_type": "code",
      "metadata": {
        "id": "dTLYQeL8SlZp",
        "colab": {
          "base_uri": "https://localhost:8080/",
          "height": 334
        },
        "outputId": "db491ea7-6c81-4c78-edec-3fbf890b666b"
      },
      "source": [
        "fig, axes = plt.subplots(1, 2, figsize=(15,5))\n",
        "\n",
        "# scatter plot of train set\n",
        "axes[0].scatter(np.transpose(x_train)[1], y_train, c='yellow')\n",
        "\n",
        "# output of predictor function (a line)\n",
        "unziped = list(zip(*sorted(zip(np.transpose(x_train)[1], reg.predict(x_train)), key=lambda x: x[0])))\n",
        "axes[0].plot(unziped[0], unziped[1], c='red')\n",
        "\n",
        "# scatter plot of test set\n",
        "axes[1].scatter(np.transpose(x_test)[1], y_test)\n",
        "\n",
        "# output of predictor function (a line)\n",
        "unziped = list(zip(*sorted(zip(np.transpose(x_test)[1], predictions), key=lambda x: x[0])))\n",
        "axes[1].plot(unziped[0], unziped[1], c='green')\n",
        "\n",
        "\n",
        "axes[1].set_xlabel('X(test)')\n",
        "axes[1].set_ylabel('y')\n",
        "axes[0].set_xlabel('X(train)')\n",
        "axes[0].set_ylabel('y')\n",
        "plt.show()\n"
      ],
      "execution_count": 67,
      "outputs": [
        {
          "output_type": "display_data",
          "data": {
            "image/png": "[encoded data removed]",
            "text/plain": [
              "<Figure size 1080x360 with 2 Axes>"
            ]
          },
          "metadata": {
            "tags": [],
            "needs_background": "light"
          }
        }
      ]
    },
    {
      "cell_type": "markdown",
      "metadata": {
        "id": "Wk_iMcgrSlZp"
      },
      "source": [
        "Evaluation"
      ]
    },
    {
      "cell_type": "code",
      "metadata": {
        "id": "eP6c2gJTSlZp",
        "colab": {
          "base_uri": "https://localhost:8080/"
        },
        "outputId": "ba9f2b88-7ffd-4609-a846-87aaf0a59b5c"
      },
      "source": [
        "np.sqrt(mean_squared_error(y_test,predictions))"
      ],
      "execution_count": 68,
      "outputs": [
        {
          "output_type": "execute_result",
          "data": {
            "text/plain": [
              "0.8798633168671822"
            ]
          },
          "metadata": {
            "tags": []
          },
          "execution_count": 68
        }
      ]
    },
    {
      "cell_type": "code",
      "metadata": {
        "id": "rFn-xfEWSlZp",
        "colab": {
          "base_uri": "https://localhost:8080/"
        },
        "outputId": "c54ba12a-a0c4-42ff-8421-70ba4e634ca9"
      },
      "source": [
        "explained_variance_score(y_test,predictions)"
      ],
      "execution_count": 69,
      "outputs": [
        {
          "output_type": "execute_result",
          "data": {
            "text/plain": [
              "0.9403255132354238"
            ]
          },
          "metadata": {
            "tags": []
          },
          "execution_count": 69
        }
      ]
    },
    {
      "cell_type": "markdown",
      "metadata": {
        "id": "pJTuSZ0HSlZq"
      },
      "source": [
        "### Degree 7"
      ]
    },
    {
      "cell_type": "code",
      "metadata": {
        "id": "bsjMWHbbSlZq",
        "colab": {
          "base_uri": "https://localhost:8080/"
        },
        "outputId": "62c24e1a-e5ba-4cda-85df-9a4e380cb18d"
      },
      "source": [
        "df_mat = np.c_[df.to_numpy(), df.to_numpy() * np.c_[np.power(X, 4)]]\n",
        "print(df_mat.shape)\n",
        "#split\n",
        "x_train, x_test, y_train, y_test = train_test_split(df_mat, y, test_size=0.2, random_state=42)\n",
        "\n",
        "# #scaling\n",
        "scaler = MinMaxScaler()\n",
        "x_train = scaler.fit_transform(x_train) + np.array([[1,0,0,0,0,0,0,0]])\n",
        "x_test = scaler.transform(x_test) + np.array([[1,0,0,0,0,0,0,0]])\n",
        "\n",
        "#regression\n",
        "reg = LinearRegression().fit(x_train, y_train)\n",
        "predictions = reg.predict(x_test)\n",
        "predictions"
      ],
      "execution_count": 70,
      "outputs": [
        {
          "output_type": "stream",
          "text": [
            "(250, 8)\n"
          ],
          "name": "stdout"
        },
        {
          "output_type": "execute_result",
          "data": {
            "text/plain": [
              "array([-3.8223956 ,  3.76036783,  4.09986107,  1.60249983,  1.20418876,\n",
              "        5.66405551,  4.8662145 ,  4.72327913,  5.76514005,  1.96194919,\n",
              "        5.72909345, -2.68973397,  2.02831362,  5.80289568,  5.22965818,\n",
              "        0.77384176,  5.18178653, -3.41317284,  3.92752834,  5.54319099,\n",
              "       -2.66381984, -3.8803631 ,  5.39954541,  5.91138121, -0.082101  ,\n",
              "       -0.74415203, -0.20691719,  5.41010991, -0.71347048, -3.87962251,\n",
              "       -1.92064855, -3.04273064,  5.79254412, -3.32650372,  2.88311932,\n",
              "       -3.80756256, -3.07570436,  2.26880728,  4.0517574 , -3.60937754,\n",
              "        4.72651003,  5.29028825,  5.18293542, -1.62856174,  5.4454961 ,\n",
              "       -2.16249408,  5.87477733, -3.73410165,  5.0884421 ,  4.49923569])"
            ]
          },
          "metadata": {
            "tags": []
          },
          "execution_count": 70
        }
      ]
    },
    {
      "cell_type": "markdown",
      "metadata": {
        "id": "GI6VOKB6SlZq"
      },
      "source": [
        "plotting"
      ]
    },
    {
      "cell_type": "code",
      "metadata": {
        "id": "ZBdg1zS2SlZq",
        "colab": {
          "base_uri": "https://localhost:8080/",
          "height": 334
        },
        "outputId": "78700729-989e-47af-d7bc-766d6130db6e"
      },
      "source": [
        "fig, axes = plt.subplots(1, 2, figsize=(15,5))\n",
        "\n",
        "# scatter plot of train set\n",
        "axes[0].scatter(np.transpose(x_train)[1], y_train, c='yellow')\n",
        "\n",
        "# output of predictor function (a line)\n",
        "unziped = list(zip(*sorted(zip(np.transpose(x_train)[1], reg.predict(x_train)), key=lambda x: x[0])))\n",
        "axes[0].plot(unziped[0], unziped[1], c='red')\n",
        "\n",
        "# scatter plot of test set\n",
        "axes[1].scatter(np.transpose(x_test)[1], y_test)\n",
        "\n",
        "# output of predictor function (a line)\n",
        "unziped = list(zip(*sorted(zip(np.transpose(x_test)[1], predictions), key=lambda x: x[0])))\n",
        "axes[1].plot(unziped[0], unziped[1], c='green')\n",
        "\n",
        "\n",
        "axes[1].set_xlabel('X(test)')\n",
        "axes[1].set_ylabel('y')\n",
        "axes[0].set_xlabel('X(train)')\n",
        "axes[0].set_ylabel('y')\n",
        "plt.show()"
      ],
      "execution_count": 71,
      "outputs": [
        {
          "output_type": "display_data",
          "data": {
            "image/png": "[encoded data removed]",
            "text/plain": [
              "<Figure size 1080x360 with 2 Axes>"
            ]
          },
          "metadata": {
            "tags": [],
            "needs_background": "light"
          }
        }
      ]
    },
    {
      "cell_type": "markdown",
      "metadata": {
        "id": "rStf_VgDSlZq"
      },
      "source": [
        "Evaluation"
      ]
    },
    {
      "cell_type": "code",
      "metadata": {
        "id": "DIix2e76SlZq",
        "colab": {
          "base_uri": "https://localhost:8080/"
        },
        "outputId": "d93cfa18-e17d-42c8-f2b9-66e61cbe97c5"
      },
      "source": [
        "np.sqrt(mean_squared_error(y_test,predictions))"
      ],
      "execution_count": 72,
      "outputs": [
        {
          "output_type": "execute_result",
          "data": {
            "text/plain": [
              "0.8212012771584085"
            ]
          },
          "metadata": {
            "tags": []
          },
          "execution_count": 72
        }
      ]
    },
    {
      "cell_type": "code",
      "metadata": {
        "id": "a5mT4SLiSlZq",
        "colab": {
          "base_uri": "https://localhost:8080/"
        },
        "outputId": "9b17015d-87cd-44e9-8bb7-f8c3cea9aac4"
      },
      "source": [
        "explained_variance_score(y_test,predictions)"
      ],
      "execution_count": 73,
      "outputs": [
        {
          "output_type": "execute_result",
          "data": {
            "text/plain": [
              "0.9480628084084165"
            ]
          },
          "metadata": {
            "tags": []
          },
          "execution_count": 73
        }
      ]
    },
    {
      "cell_type": "markdown",
      "metadata": {
        "id": "UdNo_CMCSlZr"
      },
      "source": [
        "### Degree 11"
      ]
    },
    {
      "cell_type": "code",
      "metadata": {
        "id": "HSl__smkSlZr",
        "colab": {
          "base_uri": "https://localhost:8080/"
        },
        "outputId": "046764e6-c36a-4edf-d1df-5be255db10a5"
      },
      "source": [
        "df_mat = np.c_[df_mat, df.to_numpy() * np.c_[np.power(X, 8)]]\n",
        "print(df_mat.shape)\n",
        "#split\n",
        "x_train, x_test, y_train, y_test = train_test_split(df_mat, y, test_size=0.2, random_state=42)\n",
        "\n",
        "# #scaling\n",
        "scaler = MinMaxScaler()\n",
        "x_train = scaler.fit_transform(x_train) + np.array([[1,0,0,0,0,0,0,0,0,0,0,0]])\n",
        "x_test = scaler.transform(x_test) + np.array([[1,0,0,0,0,0,0,0,0,0,0,0]])\n",
        "\n",
        "#regression\n",
        "reg = LinearRegression().fit(x_train, y_train)\n",
        "predictions = reg.predict(x_test)\n",
        "predictions"
      ],
      "execution_count": 74,
      "outputs": [
        {
          "output_type": "stream",
          "text": [
            "(250, 12)\n"
          ],
          "name": "stdout"
        },
        {
          "output_type": "execute_result",
          "data": {
            "text/plain": [
              "array([-3.89349861,  3.90917505,  3.87485321,  1.84357297,  0.92739988,\n",
              "        5.79531957,  4.89679953,  4.64373112,  5.65553507,  1.99592712,\n",
              "        5.61877068, -2.78916825,  2.07083987,  5.89588217,  5.31338671,\n",
              "       -0.67235597,  5.1531511 , -3.18325382,  3.69460927,  5.44950551,\n",
              "       -2.75212822, -3.8074486 ,  5.52070204,  5.87156839, -0.17786263,\n",
              "       -0.55358929, -0.43381206,  5.33819912, -0.53356791, -3.81240804,\n",
              "       -1.70934826, -2.91145481,  5.89018982, -3.11699164,  2.95544191,\n",
              "       -3.89891957, -3.31569855,  2.34063766,  3.8228276 , -3.34874886,\n",
              "        4.78073647,  5.38926275,  5.15407686, -1.81801976,  5.57347783,\n",
              "       -2.03569023,  5.91985102, -3.89987151,  5.07786343,  4.58705696])"
            ]
          },
          "metadata": {
            "tags": []
          },
          "execution_count": 74
        }
      ]
    },
    {
      "cell_type": "markdown",
      "metadata": {
        "id": "iyaRx3OISlZr"
      },
      "source": [
        "Plotting"
      ]
    },
    {
      "cell_type": "code",
      "metadata": {
        "id": "4dT0Bw9JSlZr",
        "colab": {
          "base_uri": "https://localhost:8080/",
          "height": 334
        },
        "outputId": "f5c91f13-33c7-415d-fe99-0581f96896d8"
      },
      "source": [
        "fig, axes = plt.subplots(1, 2, figsize=(15,5))\n",
        "\n",
        "# scatter plot of train set\n",
        "axes[0].scatter(np.transpose(x_train)[1], y_train, c='yellow')\n",
        "\n",
        "# output of predictor function (a line)\n",
        "unziped = list(zip(*sorted(zip(np.transpose(x_train)[1], reg.predict(x_train)), key=lambda x: x[0])))\n",
        "axes[0].plot(unziped[0], unziped[1], c='red')\n",
        "\n",
        "# scatter plot of test set\n",
        "axes[1].scatter(np.transpose(x_test)[1], y_test)\n",
        "\n",
        "# output of predictor function (a line)\n",
        "unziped = list(zip(*sorted(zip(np.transpose(x_test)[1], predictions), key=lambda x: x[0])))\n",
        "axes[1].plot(unziped[0], unziped[1], c='green')\n",
        "\n",
        "\n",
        "axes[1].set_xlabel('X(test)')\n",
        "axes[1].set_ylabel('y')\n",
        "axes[0].set_xlabel('X(train)')\n",
        "axes[0].set_ylabel('y')\n",
        "plt.show()"
      ],
      "execution_count": 75,
      "outputs": [
        {
          "output_type": "display_data",
          "data": {
            "image/png": "[encoded data removed]",
            "text/plain": [
              "<Figure size 1080x360 with 2 Axes>"
            ]
          },
          "metadata": {
            "tags": [],
            "needs_background": "light"
          }
        }
      ]
    },
    {
      "cell_type": "markdown",
      "metadata": {
        "id": "Tqc8lieGSlZr"
      },
      "source": [
        "evaluation"
      ]
    },
    {
      "cell_type": "code",
      "metadata": {
        "id": "Z5ywCB2BSlZr",
        "colab": {
          "base_uri": "https://localhost:8080/"
        },
        "outputId": "8ba70d44-b731-499a-eebb-8c8c116bf347"
      },
      "source": [
        "np.sqrt(mean_squared_error(y_test,predictions))"
      ],
      "execution_count": 76,
      "outputs": [
        {
          "output_type": "execute_result",
          "data": {
            "text/plain": [
              "0.8469189461485328"
            ]
          },
          "metadata": {
            "tags": []
          },
          "execution_count": 76
        }
      ]
    },
    {
      "cell_type": "code",
      "metadata": {
        "id": "UdaFTZOiSlZr",
        "colab": {
          "base_uri": "https://localhost:8080/"
        },
        "outputId": "a1b4d49f-0859-4559-db4e-3e8cc54a9fb2"
      },
      "source": [
        "explained_variance_score(y_test,predictions)"
      ],
      "execution_count": 77,
      "outputs": [
        {
          "output_type": "execute_result",
          "data": {
            "text/plain": [
              "0.9446716880610666"
            ]
          },
          "metadata": {
            "tags": []
          },
          "execution_count": 77
        }
      ]
    },
    {
      "cell_type": "markdown",
      "metadata": {
        "id": "yKQ-44PzSlZr"
      },
      "source": [
        "### Degree 16"
      ]
    },
    {
      "cell_type": "code",
      "metadata": {
        "id": "AYhTuEX7SlZs",
        "colab": {
          "base_uri": "https://localhost:8080/"
        },
        "outputId": "497e1742-eb35-417a-c14c-d9dd48de5155"
      },
      "source": [
        "df_mat = np.c_[df_mat, df.to_numpy() * np.c_[np.power(X, 12)], np.c_[np.power(X, 16)]]\n",
        "print(df_mat.shape)\n",
        "#split\n",
        "x_train, x_test, y_train, y_test = train_test_split(df_mat, y, test_size=0.2, random_state=42)\n",
        "\n",
        "# #scaling\n",
        "scaler = MinMaxScaler()\n",
        "x_train = scaler.fit_transform(x_train) + np.array([[1,0,0,0,0,0,0,0,0,0,0,0,0,0,0,0,0]])\n",
        "x_test = scaler.transform(x_test) + np.array([[1,0,0,0,0,0,0,0,0,0,0,0,0,0,0,0,0]])\n",
        "\n",
        "#regression\n",
        "reg = LinearRegression().fit(x_train, y_train)\n",
        "predictions = reg.predict(x_test)\n",
        "predictions"
      ],
      "execution_count": 78,
      "outputs": [
        {
          "output_type": "stream",
          "text": [
            "(250, 17)\n"
          ],
          "name": "stdout"
        },
        {
          "output_type": "execute_result",
          "data": {
            "text/plain": [
              "array([-4.0438563 ,  3.95480826,  3.74641006,  1.85090603,  0.77415552,\n",
              "        5.8283128 ,  5.02710269,  4.83531933,  5.53029129,  1.93311897,\n",
              "        5.52032979, -2.62136346,  2.00906107,  5.77045149,  5.60128255,\n",
              "       -0.49986685,  5.26096449, -3.10937834,  3.50236151,  5.45660897,\n",
              "       -2.58940957, -3.96116001,  5.75308362,  5.6054407 ,  0.01387451,\n",
              "       -0.67107862, -0.47210171,  5.39515543, -0.63923239, -3.96732577,\n",
              "       -1.80164521, -2.81706395,  5.77765697, -3.03332409,  2.91816489,\n",
              "       -4.04296172, -3.13703905,  2.28422301,  3.67436837, -3.31613003,\n",
              "        4.90955662,  5.66352191,  5.26172141, -1.80170366,  5.7813051 ,\n",
              "       -2.03571982,  5.70145395, -4.00543978,  5.19699391,  4.70411933])"
            ]
          },
          "metadata": {
            "tags": []
          },
          "execution_count": 78
        }
      ]
    },
    {
      "cell_type": "markdown",
      "metadata": {
        "id": "EuiqvtRtSlZs"
      },
      "source": [
        "Plotting\n"
      ]
    },
    {
      "cell_type": "code",
      "metadata": {
        "id": "VNDjUn99SlZt",
        "colab": {
          "base_uri": "https://localhost:8080/",
          "height": 334
        },
        "outputId": "9fa422cd-f334-47e6-da0d-a2f56bbe9416"
      },
      "source": [
        "fig, axes = plt.subplots(1, 2, figsize=(15,5))\n",
        "\n",
        "# scatter plot of train set\n",
        "axes[0].scatter(np.transpose(x_train)[1], y_train, c='yellow')\n",
        "\n",
        "# output of predictor function (a line)\n",
        "unziped = list(zip(*sorted(zip(np.transpose(x_train)[1], reg.predict(x_train)), key=lambda x: x[0])))\n",
        "axes[0].plot(unziped[0], unziped[1], c='red')\n",
        "\n",
        "# scatter plot of test set\n",
        "axes[1].scatter(np.transpose(x_test)[1], y_test)\n",
        "\n",
        "# output of predictor function (a line)\n",
        "unziped = list(zip(*sorted(zip(np.transpose(x_test)[1], predictions), key=lambda x: x[0])))\n",
        "axes[1].plot(unziped[0], unziped[1], c='green')\n",
        "\n",
        "\n",
        "axes[1].set_xlabel('X(test)')\n",
        "axes[1].set_ylabel('y')\n",
        "axes[0].set_xlabel('X(train)')\n",
        "axes[0].set_ylabel('y')\n",
        "plt.show()"
      ],
      "execution_count": 79,
      "outputs": [
        {
          "output_type": "display_data",
          "data": {
            "image/png": "[encoded data removed]",
            "text/plain": [
              "<Figure size 1080x360 with 2 Axes>"
            ]
          },
          "metadata": {
            "tags": [],
            "needs_background": "light"
          }
        }
      ]
    },
    {
      "cell_type": "markdown",
      "metadata": {
        "id": "h53s8gVvSlZt"
      },
      "source": [
        "Evaluation"
      ]
    },
    {
      "cell_type": "code",
      "metadata": {
        "id": "yeIRwImpSlZt",
        "colab": {
          "base_uri": "https://localhost:8080/"
        },
        "outputId": "7ba364e1-1772-408a-8a1c-db0c878376cc"
      },
      "source": [
        "np.sqrt(mean_squared_error(y_test,predictions))"
      ],
      "execution_count": 80,
      "outputs": [
        {
          "output_type": "execute_result",
          "data": {
            "text/plain": [
              "0.8476341811656453"
            ]
          },
          "metadata": {
            "tags": []
          },
          "execution_count": 80
        }
      ]
    },
    {
      "cell_type": "code",
      "metadata": {
        "id": "pi2P_zhhSlZt",
        "colab": {
          "base_uri": "https://localhost:8080/"
        },
        "outputId": "2bfb37b5-70c4-4e5c-b8f5-548420fc9d20"
      },
      "source": [
        "explained_variance_score(y_test,predictions)"
      ],
      "execution_count": 81,
      "outputs": [
        {
          "output_type": "execute_result",
          "data": {
            "text/plain": [
              "0.9446020022828876"
            ]
          },
          "metadata": {
            "tags": []
          },
          "execution_count": 81
        }
      ]
    },
    {
      "cell_type": "markdown",
      "metadata": {
        "id": "u9qVR0uvSlZu"
      },
      "source": [
        "### Degree 20"
      ]
    },
    {
      "cell_type": "code",
      "metadata": {
        "id": "ZiLtVAPzSlZu",
        "colab": {
          "base_uri": "https://localhost:8080/"
        },
        "outputId": "3e5dc485-f53f-417b-e78a-682d46bb8398"
      },
      "source": [
        "df_mat = np.c_[df_mat, df.to_numpy() * np.c_[np.power(X, 17)]]\n",
        "print(df_mat.shape)\n",
        "#split\n",
        "x_train, x_test, y_train, y_test = train_test_split(df_mat, y, test_size=0.2, random_state=42)\n",
        "\n",
        "# #scaling\n",
        "scaler = MinMaxScaler()\n",
        "x_train = scaler.fit_transform(x_train) + np.array([[1,0,0,0,0,0,0,0,0,0,0,0,0,0,0,0,0,0,0,0,0]])\n",
        "x_test = scaler.transform(x_test) + np.array([[1,0,0,0,0,0,0,0,0,0,0,0,0,0,0,0,0,0,0,0,0]])\n",
        "\n",
        "#regression\n",
        "reg = LinearRegression().fit(x_train, y_train)\n",
        "predictions = reg.predict(x_test)\n",
        "predictions"
      ],
      "execution_count": 82,
      "outputs": [
        {
          "output_type": "stream",
          "text": [
            "(250, 21)\n"
          ],
          "name": "stdout"
        },
        {
          "output_type": "execute_result",
          "data": {
            "text/plain": [
              "array([-3.91794609,  4.01126095,  3.72382039,  1.59329203,  0.52854885,\n",
              "        5.60108799,  4.86615227,  5.05473764,  5.79996291,  2.00405484,\n",
              "        5.76560577, -2.60891174,  2.09294696,  5.60303309,  5.63744305,\n",
              "        0.66805119,  5.15838675, -3.23329867,  3.39751914,  5.55765857,\n",
              "       -2.56855979, -3.85828572,  5.66151058,  5.80739013,  0.05742296,\n",
              "       -0.75704055, -0.64811643,  5.40397985, -0.72421461, -3.86142587,\n",
              "       -1.66575854, -2.82180741,  5.59937891, -3.13356627,  2.93666845,\n",
              "       -3.92278115, -3.23521104,  2.40973933,  3.62730862, -3.46260348,\n",
              "        4.75116823,  5.65497571,  5.15954928, -1.69894065,  5.65614659,\n",
              "       -1.89677608,  5.66323832, -3.92557084,  5.06646196,  4.57584481])"
            ]
          },
          "metadata": {
            "tags": []
          },
          "execution_count": 82
        }
      ]
    },
    {
      "cell_type": "markdown",
      "metadata": {
        "id": "tABfNOstSlZu"
      },
      "source": [
        "Plotting"
      ]
    },
    {
      "cell_type": "code",
      "metadata": {
        "id": "9SkD4U0xSlZu",
        "colab": {
          "base_uri": "https://localhost:8080/",
          "height": 334
        },
        "outputId": "f5f0e79a-5537-4ec6-a65e-e369d9904a02"
      },
      "source": [
        "fig, axes = plt.subplots(1, 2, figsize=(15,5))\n",
        "\n",
        "# scatter plot of train set\n",
        "axes[0].scatter(np.transpose(x_train)[1], y_train, c='yellow')\n",
        "\n",
        "# output of predictor function (a line)\n",
        "unziped = list(zip(*sorted(zip(np.transpose(x_train)[1], reg.predict(x_train)), key=lambda x: x[0])))\n",
        "axes[0].plot(unziped[0], unziped[1], c='red')\n",
        "\n",
        "# scatter plot of test set\n",
        "axes[1].scatter(np.transpose(x_test)[1], y_test)\n",
        "\n",
        "# output of predictor function (a line)\n",
        "unziped = list(zip(*sorted(zip(np.transpose(x_test)[1], predictions), key=lambda x: x[0])))\n",
        "axes[1].plot(unziped[0], unziped[1], c='green')\n",
        "\n",
        "\n",
        "axes[1].set_xlabel('X(test)')\n",
        "axes[1].set_ylabel('y')\n",
        "axes[0].set_xlabel('X(train)')\n",
        "axes[0].set_ylabel('y')\n",
        "plt.show()"
      ],
      "execution_count": 83,
      "outputs": [
        {
          "output_type": "display_data",
          "data": {
            "image/png": "[encoded data removed]",
            "text/plain": [
              "<Figure size 1080x360 with 2 Axes>"
            ]
          },
          "metadata": {
            "tags": [],
            "needs_background": "light"
          }
        }
      ]
    },
    {
      "cell_type": "markdown",
      "metadata": {
        "id": "ZB6cBLlfSlZu"
      },
      "source": [
        "Evaluation"
      ]
    },
    {
      "cell_type": "code",
      "metadata": {
        "id": "q4P-2DuTSlZu",
        "colab": {
          "base_uri": "https://localhost:8080/"
        },
        "outputId": "a366a403-2054-460e-8ba4-61aa701cd178"
      },
      "source": [
        "np.sqrt(mean_squared_error(y_test,predictions))"
      ],
      "execution_count": 84,
      "outputs": [
        {
          "output_type": "execute_result",
          "data": {
            "text/plain": [
              "0.8053381071552244"
            ]
          },
          "metadata": {
            "tags": []
          },
          "execution_count": 84
        }
      ]
    },
    {
      "cell_type": "code",
      "metadata": {
        "id": "9syfFlaNSlZu",
        "colab": {
          "base_uri": "https://localhost:8080/"
        },
        "outputId": "49b7bf43-e7f6-4869-9d13-8a5389d1163b"
      },
      "source": [
        "explained_variance_score(y_test,predictions)"
      ],
      "execution_count": 85,
      "outputs": [
        {
          "output_type": "execute_result",
          "data": {
            "text/plain": [
              "0.9500396237580284"
            ]
          },
          "metadata": {
            "tags": []
          },
          "execution_count": 85
        }
      ]
    }
  ]
}