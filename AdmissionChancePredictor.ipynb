{
  "nbformat": 4,
  "nbformat_minor": 0,
  "metadata": {
    "colab": {
      "name": "AdmissionChancePredictor.ipynb",
      "provenance": [],
      "collapsed_sections": [
        "CBPxexb5qjUJ",
        "JVumT68aq6hd",
        "oOY9JHvxvWZX"
      ]
    },
    "kernelspec": {
      "name": "python3",
      "display_name": "Python 3"
    },
    "language_info": {
      "name": "python"
    }
  },
  "cells": [
    {
      "cell_type": "markdown",
      "metadata": {
        "id": "rJU7yydyqBbD"
      },
      "source": [
        "# Import Dataset"
      ]
    },
    {
      "cell_type": "code",
      "metadata": {
        "id": "VMFPkeeZlVwK"
      },
      "source": [
        "import pandas as pd\n",
        "import numpy as np"
      ],
      "execution_count": null,
      "outputs": []
    },
    {
      "cell_type": "code",
      "metadata": {
        "id": "oCtrF02amqus"
      },
      "source": [
        "df = pd.read_csv('AdmissionPredict.csv')"
      ],
      "execution_count": null,
      "outputs": []
    },
    {
      "cell_type": "code",
      "metadata": {
        "colab": {
          "base_uri": "https://localhost:8080/",
          "height": 203
        },
        "id": "IX1V-UvInDOq",
        "outputId": "598a0850-a060-4032-e2d2-2136badeae07"
      },
      "source": [
        "df.head()"
      ],
      "execution_count": null,
      "outputs": [
        {
          "output_type": "execute_result",
          "data": {
            "text/html": [
              "<div>\n",
              "<style scoped>\n",
              "    .dataframe tbody tr th:only-of-type {\n",
              "        vertical-align: middle;\n",
              "    }\n",
              "\n",
              "    .dataframe tbody tr th {\n",
              "        vertical-align: top;\n",
              "    }\n",
              "\n",
              "    .dataframe thead th {\n",
              "        text-align: right;\n",
              "    }\n",
              "</style>\n",
              "<table border=\"1\" class=\"dataframe\">\n",
              "  <thead>\n",
              "    <tr style=\"text-align: right;\">\n",
              "      <th></th>\n",
              "      <th>Serial No.</th>\n",
              "      <th>GRE Score</th>\n",
              "      <th>TOEFL Score</th>\n",
              "      <th>University Rating</th>\n",
              "      <th>SOP</th>\n",
              "      <th>LOR</th>\n",
              "      <th>CGPA</th>\n",
              "      <th>Research</th>\n",
              "      <th>Chance of Admit</th>\n",
              "    </tr>\n",
              "  </thead>\n",
              "  <tbody>\n",
              "    <tr>\n",
              "      <th>0</th>\n",
              "      <td>1</td>\n",
              "      <td>337.0</td>\n",
              "      <td>118.0</td>\n",
              "      <td>4</td>\n",
              "      <td>4.5</td>\n",
              "      <td>4.5</td>\n",
              "      <td>9.65</td>\n",
              "      <td>1</td>\n",
              "      <td>0.92</td>\n",
              "    </tr>\n",
              "    <tr>\n",
              "      <th>1</th>\n",
              "      <td>2</td>\n",
              "      <td>324.0</td>\n",
              "      <td>107.0</td>\n",
              "      <td>4</td>\n",
              "      <td>4.0</td>\n",
              "      <td>4.5</td>\n",
              "      <td>8.87</td>\n",
              "      <td>1</td>\n",
              "      <td>NaN</td>\n",
              "    </tr>\n",
              "    <tr>\n",
              "      <th>2</th>\n",
              "      <td>3</td>\n",
              "      <td>316.0</td>\n",
              "      <td>NaN</td>\n",
              "      <td>3</td>\n",
              "      <td>3.0</td>\n",
              "      <td>3.5</td>\n",
              "      <td>8.00</td>\n",
              "      <td>1</td>\n",
              "      <td>0.72</td>\n",
              "    </tr>\n",
              "    <tr>\n",
              "      <th>3</th>\n",
              "      <td>4</td>\n",
              "      <td>NaN</td>\n",
              "      <td>110.0</td>\n",
              "      <td>3</td>\n",
              "      <td>3.5</td>\n",
              "      <td>2.5</td>\n",
              "      <td>8.67</td>\n",
              "      <td>1</td>\n",
              "      <td>0.80</td>\n",
              "    </tr>\n",
              "    <tr>\n",
              "      <th>4</th>\n",
              "      <td>5</td>\n",
              "      <td>314.0</td>\n",
              "      <td>103.0</td>\n",
              "      <td>2</td>\n",
              "      <td>2.0</td>\n",
              "      <td>3.0</td>\n",
              "      <td>8.21</td>\n",
              "      <td>0</td>\n",
              "      <td>0.65</td>\n",
              "    </tr>\n",
              "  </tbody>\n",
              "</table>\n",
              "</div>"
            ],
            "text/plain": [
              "   Serial No.  GRE Score  TOEFL Score  ...  CGPA  Research  Chance of Admit\n",
              "0           1      337.0        118.0  ...  9.65         1             0.92\n",
              "1           2      324.0        107.0  ...  8.87         1              NaN\n",
              "2           3      316.0          NaN  ...  8.00         1             0.72\n",
              "3           4        NaN        110.0  ...  8.67         1             0.80\n",
              "4           5      314.0        103.0  ...  8.21         0             0.65\n",
              "\n",
              "[5 rows x 9 columns]"
            ]
          },
          "metadata": {
            "tags": []
          },
          "execution_count": 137
        }
      ]
    },
    {
      "cell_type": "code",
      "metadata": {
        "colab": {
          "base_uri": "https://localhost:8080/",
          "height": 295
        },
        "id": "b3a2sosom64s",
        "outputId": "ebafa038-0c98-4679-ec96-90acd64fbdae"
      },
      "source": [
        "df.describe()"
      ],
      "execution_count": null,
      "outputs": [
        {
          "output_type": "execute_result",
          "data": {
            "text/html": [
              "<div>\n",
              "<style scoped>\n",
              "    .dataframe tbody tr th:only-of-type {\n",
              "        vertical-align: middle;\n",
              "    }\n",
              "\n",
              "    .dataframe tbody tr th {\n",
              "        vertical-align: top;\n",
              "    }\n",
              "\n",
              "    .dataframe thead th {\n",
              "        text-align: right;\n",
              "    }\n",
              "</style>\n",
              "<table border=\"1\" class=\"dataframe\">\n",
              "  <thead>\n",
              "    <tr style=\"text-align: right;\">\n",
              "      <th></th>\n",
              "      <th>Serial No.</th>\n",
              "      <th>GRE Score</th>\n",
              "      <th>TOEFL Score</th>\n",
              "      <th>University Rating</th>\n",
              "      <th>SOP</th>\n",
              "      <th>LOR</th>\n",
              "      <th>CGPA</th>\n",
              "      <th>Research</th>\n",
              "      <th>Chance of Admit</th>\n",
              "    </tr>\n",
              "  </thead>\n",
              "  <tbody>\n",
              "    <tr>\n",
              "      <th>count</th>\n",
              "      <td>400.000000</td>\n",
              "      <td>378.000000</td>\n",
              "      <td>380.000000</td>\n",
              "      <td>400.000000</td>\n",
              "      <td>400.000000</td>\n",
              "      <td>400.000000</td>\n",
              "      <td>380.000000</td>\n",
              "      <td>400.000000</td>\n",
              "      <td>384.000000</td>\n",
              "    </tr>\n",
              "    <tr>\n",
              "      <th>mean</th>\n",
              "      <td>200.500000</td>\n",
              "      <td>316.759259</td>\n",
              "      <td>107.386842</td>\n",
              "      <td>3.087500</td>\n",
              "      <td>3.400000</td>\n",
              "      <td>3.452500</td>\n",
              "      <td>8.604737</td>\n",
              "      <td>0.547500</td>\n",
              "      <td>0.724375</td>\n",
              "    </tr>\n",
              "    <tr>\n",
              "      <th>std</th>\n",
              "      <td>115.614301</td>\n",
              "      <td>11.415599</td>\n",
              "      <td>6.048645</td>\n",
              "      <td>1.143728</td>\n",
              "      <td>1.006869</td>\n",
              "      <td>0.898478</td>\n",
              "      <td>0.599167</td>\n",
              "      <td>0.498362</td>\n",
              "      <td>0.142964</td>\n",
              "    </tr>\n",
              "    <tr>\n",
              "      <th>min</th>\n",
              "      <td>1.000000</td>\n",
              "      <td>290.000000</td>\n",
              "      <td>92.000000</td>\n",
              "      <td>1.000000</td>\n",
              "      <td>1.000000</td>\n",
              "      <td>1.000000</td>\n",
              "      <td>6.800000</td>\n",
              "      <td>0.000000</td>\n",
              "      <td>0.340000</td>\n",
              "    </tr>\n",
              "    <tr>\n",
              "      <th>25%</th>\n",
              "      <td>100.750000</td>\n",
              "      <td>308.250000</td>\n",
              "      <td>103.000000</td>\n",
              "      <td>2.000000</td>\n",
              "      <td>2.500000</td>\n",
              "      <td>3.000000</td>\n",
              "      <td>8.170000</td>\n",
              "      <td>0.000000</td>\n",
              "      <td>0.640000</td>\n",
              "    </tr>\n",
              "    <tr>\n",
              "      <th>50%</th>\n",
              "      <td>200.500000</td>\n",
              "      <td>317.000000</td>\n",
              "      <td>107.000000</td>\n",
              "      <td>3.000000</td>\n",
              "      <td>3.500000</td>\n",
              "      <td>3.500000</td>\n",
              "      <td>8.640000</td>\n",
              "      <td>1.000000</td>\n",
              "      <td>0.730000</td>\n",
              "    </tr>\n",
              "    <tr>\n",
              "      <th>75%</th>\n",
              "      <td>300.250000</td>\n",
              "      <td>325.000000</td>\n",
              "      <td>112.000000</td>\n",
              "      <td>4.000000</td>\n",
              "      <td>4.000000</td>\n",
              "      <td>4.000000</td>\n",
              "      <td>9.080000</td>\n",
              "      <td>1.000000</td>\n",
              "      <td>0.830000</td>\n",
              "    </tr>\n",
              "    <tr>\n",
              "      <th>max</th>\n",
              "      <td>400.000000</td>\n",
              "      <td>340.000000</td>\n",
              "      <td>120.000000</td>\n",
              "      <td>5.000000</td>\n",
              "      <td>5.000000</td>\n",
              "      <td>5.000000</td>\n",
              "      <td>9.920000</td>\n",
              "      <td>1.000000</td>\n",
              "      <td>0.970000</td>\n",
              "    </tr>\n",
              "  </tbody>\n",
              "</table>\n",
              "</div>"
            ],
            "text/plain": [
              "       Serial No.   GRE Score  ...    Research  Chance of Admit\n",
              "count  400.000000  378.000000  ...  400.000000       384.000000\n",
              "mean   200.500000  316.759259  ...    0.547500         0.724375\n",
              "std    115.614301   11.415599  ...    0.498362         0.142964\n",
              "min      1.000000  290.000000  ...    0.000000         0.340000\n",
              "25%    100.750000  308.250000  ...    0.000000         0.640000\n",
              "50%    200.500000  317.000000  ...    1.000000         0.730000\n",
              "75%    300.250000  325.000000  ...    1.000000         0.830000\n",
              "max    400.000000  340.000000  ...    1.000000         0.970000\n",
              "\n",
              "[8 rows x 9 columns]"
            ]
          },
          "metadata": {
            "tags": []
          },
          "execution_count": 138
        }
      ]
    },
    {
      "cell_type": "code",
      "metadata": {
        "colab": {
          "base_uri": "https://localhost:8080/"
        },
        "id": "9veoT4Vfm84F",
        "outputId": "3572849f-e74b-454b-8cf2-9ca1283419ae"
      },
      "source": [
        "df.info()"
      ],
      "execution_count": null,
      "outputs": [
        {
          "output_type": "stream",
          "text": [
            "<class 'pandas.core.frame.DataFrame'>\n",
            "RangeIndex: 400 entries, 0 to 399\n",
            "Data columns (total 9 columns):\n",
            " #   Column             Non-Null Count  Dtype  \n",
            "---  ------             --------------  -----  \n",
            " 0   Serial No.         400 non-null    int64  \n",
            " 1   GRE Score          378 non-null    float64\n",
            " 2   TOEFL Score        380 non-null    float64\n",
            " 3   University Rating  400 non-null    int64  \n",
            " 4   SOP                400 non-null    float64\n",
            " 5   LOR                400 non-null    float64\n",
            " 6   CGPA               380 non-null    float64\n",
            " 7   Research           400 non-null    int64  \n",
            " 8   Chance of Admit    384 non-null    float64\n",
            "dtypes: float64(6), int64(3)\n",
            "memory usage: 28.2 KB\n"
          ],
          "name": "stdout"
        }
      ]
    },
    {
      "cell_type": "code",
      "metadata": {
        "id": "mMnm3qYFm9-x"
      },
      "source": [
        ""
      ],
      "execution_count": null,
      "outputs": []
    },
    {
      "cell_type": "markdown",
      "metadata": {
        "id": "zrCVoHJJqOUq"
      },
      "source": [
        "# Data Exploratory Analysis"
      ]
    },
    {
      "cell_type": "markdown",
      "metadata": {
        "id": "CBPxexb5qjUJ"
      },
      "source": [
        "## Dealing With Missing Data\n",
        "Let's see which column has NaN values : "
      ]
    },
    {
      "cell_type": "code",
      "metadata": {
        "colab": {
          "base_uri": "https://localhost:8080/"
        },
        "id": "Yrit8TvKqQGl",
        "outputId": "8b949e13-c0e6-4c93-fc02-424135be8ed2"
      },
      "source": [
        "df.isnull().sum()"
      ],
      "execution_count": null,
      "outputs": [
        {
          "output_type": "execute_result",
          "data": {
            "text/plain": [
              "Serial No.            0\n",
              "GRE Score            22\n",
              "TOEFL Score          20\n",
              "University Rating     0\n",
              "SOP                   0\n",
              "LOR                   0\n",
              "CGPA                 20\n",
              "Research              0\n",
              "Chance of Admit      16\n",
              "dtype: int64"
            ]
          },
          "metadata": {
            "tags": []
          },
          "execution_count": 140
        }
      ]
    },
    {
      "cell_type": "markdown",
      "metadata": {
        "id": "DjEIURuNWO6K"
      },
      "source": [
        "Let's drop NaN values in Chance of Admit column:"
      ]
    },
    {
      "cell_type": "code",
      "metadata": {
        "colab": {
          "base_uri": "https://localhost:8080/"
        },
        "id": "lkaCpBveWEz8",
        "outputId": "49c192ec-558e-44a5-df7e-06f02a1eb07c"
      },
      "source": [
        "df = df[df['Chance of Admit'].notna()]\n",
        "df"
      ],
      "execution_count": null,
      "outputs": [
        {
          "output_type": "execute_result",
          "data": {
            "text/html": [
              "<div>\n",
              "<style scoped>\n",
              "    .dataframe tbody tr th:only-of-type {\n",
              "        vertical-align: middle;\n",
              "    }\n",
              "\n",
              "    .dataframe tbody tr th {\n",
              "        vertical-align: top;\n",
              "    }\n",
              "\n",
              "    .dataframe thead th {\n",
              "        text-align: right;\n",
              "    }\n",
              "</style>\n",
              "<table border=\"1\" class=\"dataframe\">\n",
              "  <thead>\n",
              "    <tr style=\"text-align: right;\">\n",
              "      <th></th>\n",
              "      <th>Serial No.</th>\n",
              "      <th>GRE Score</th>\n",
              "      <th>TOEFL Score</th>\n",
              "      <th>University Rating</th>\n",
              "      <th>SOP</th>\n",
              "      <th>LOR</th>\n",
              "      <th>CGPA</th>\n",
              "      <th>Research</th>\n",
              "      <th>Chance of Admit</th>\n",
              "    </tr>\n",
              "  </thead>\n",
              "  <tbody>\n",
              "    <tr>\n",
              "      <th>0</th>\n",
              "      <td>1</td>\n",
              "      <td>337.0</td>\n",
              "      <td>118.0</td>\n",
              "      <td>4</td>\n",
              "      <td>4.5</td>\n",
              "      <td>4.5</td>\n",
              "      <td>9.65</td>\n",
              "      <td>1</td>\n",
              "      <td>0.92</td>\n",
              "    </tr>\n",
              "    <tr>\n",
              "      <th>2</th>\n",
              "      <td>3</td>\n",
              "      <td>316.0</td>\n",
              "      <td>NaN</td>\n",
              "      <td>3</td>\n",
              "      <td>3.0</td>\n",
              "      <td>3.5</td>\n",
              "      <td>8.00</td>\n",
              "      <td>1</td>\n",
              "      <td>0.72</td>\n",
              "    </tr>\n",
              "    <tr>\n",
              "      <th>3</th>\n",
              "      <td>4</td>\n",
              "      <td>NaN</td>\n",
              "      <td>110.0</td>\n",
              "      <td>3</td>\n",
              "      <td>3.5</td>\n",
              "      <td>2.5</td>\n",
              "      <td>8.67</td>\n",
              "      <td>1</td>\n",
              "      <td>0.80</td>\n",
              "    </tr>\n",
              "    <tr>\n",
              "      <th>4</th>\n",
              "      <td>5</td>\n",
              "      <td>314.0</td>\n",
              "      <td>103.0</td>\n",
              "      <td>2</td>\n",
              "      <td>2.0</td>\n",
              "      <td>3.0</td>\n",
              "      <td>8.21</td>\n",
              "      <td>0</td>\n",
              "      <td>0.65</td>\n",
              "    </tr>\n",
              "    <tr>\n",
              "      <th>5</th>\n",
              "      <td>6</td>\n",
              "      <td>330.0</td>\n",
              "      <td>115.0</td>\n",
              "      <td>5</td>\n",
              "      <td>4.5</td>\n",
              "      <td>3.0</td>\n",
              "      <td>9.34</td>\n",
              "      <td>1</td>\n",
              "      <td>0.90</td>\n",
              "    </tr>\n",
              "    <tr>\n",
              "      <th>...</th>\n",
              "      <td>...</td>\n",
              "      <td>...</td>\n",
              "      <td>...</td>\n",
              "      <td>...</td>\n",
              "      <td>...</td>\n",
              "      <td>...</td>\n",
              "      <td>...</td>\n",
              "      <td>...</td>\n",
              "      <td>...</td>\n",
              "    </tr>\n",
              "    <tr>\n",
              "      <th>394</th>\n",
              "      <td>395</td>\n",
              "      <td>329.0</td>\n",
              "      <td>111.0</td>\n",
              "      <td>4</td>\n",
              "      <td>4.5</td>\n",
              "      <td>4.0</td>\n",
              "      <td>9.23</td>\n",
              "      <td>1</td>\n",
              "      <td>0.89</td>\n",
              "    </tr>\n",
              "    <tr>\n",
              "      <th>395</th>\n",
              "      <td>396</td>\n",
              "      <td>324.0</td>\n",
              "      <td>110.0</td>\n",
              "      <td>3</td>\n",
              "      <td>3.5</td>\n",
              "      <td>3.5</td>\n",
              "      <td>9.04</td>\n",
              "      <td>1</td>\n",
              "      <td>0.82</td>\n",
              "    </tr>\n",
              "    <tr>\n",
              "      <th>397</th>\n",
              "      <td>398</td>\n",
              "      <td>330.0</td>\n",
              "      <td>116.0</td>\n",
              "      <td>4</td>\n",
              "      <td>5.0</td>\n",
              "      <td>4.5</td>\n",
              "      <td>9.45</td>\n",
              "      <td>1</td>\n",
              "      <td>0.91</td>\n",
              "    </tr>\n",
              "    <tr>\n",
              "      <th>398</th>\n",
              "      <td>399</td>\n",
              "      <td>312.0</td>\n",
              "      <td>103.0</td>\n",
              "      <td>3</td>\n",
              "      <td>3.5</td>\n",
              "      <td>4.0</td>\n",
              "      <td>8.78</td>\n",
              "      <td>0</td>\n",
              "      <td>0.67</td>\n",
              "    </tr>\n",
              "    <tr>\n",
              "      <th>399</th>\n",
              "      <td>400</td>\n",
              "      <td>333.0</td>\n",
              "      <td>117.0</td>\n",
              "      <td>4</td>\n",
              "      <td>5.0</td>\n",
              "      <td>4.0</td>\n",
              "      <td>9.66</td>\n",
              "      <td>1</td>\n",
              "      <td>0.95</td>\n",
              "    </tr>\n",
              "  </tbody>\n",
              "</table>\n",
              "<p>384 rows × 9 columns</p>\n",
              "</div>"
            ],
            "text/plain": [
              "     Serial No.  GRE Score  TOEFL Score  ...  CGPA  Research  Chance of Admit\n",
              "0             1      337.0        118.0  ...  9.65         1             0.92\n",
              "2             3      316.0          NaN  ...  8.00         1             0.72\n",
              "3             4        NaN        110.0  ...  8.67         1             0.80\n",
              "4             5      314.0        103.0  ...  8.21         0             0.65\n",
              "5             6      330.0        115.0  ...  9.34         1             0.90\n",
              "..          ...        ...          ...  ...   ...       ...              ...\n",
              "394         395      329.0        111.0  ...  9.23         1             0.89\n",
              "395         396      324.0        110.0  ...  9.04         1             0.82\n",
              "397         398      330.0        116.0  ...  9.45         1             0.91\n",
              "398         399      312.0        103.0  ...  8.78         0             0.67\n",
              "399         400      333.0        117.0  ...  9.66         1             0.95\n",
              "\n",
              "[384 rows x 9 columns]"
            ]
          },
          "metadata": {
            "tags": []
          },
          "execution_count": 141
        }
      ]
    },
    {
      "cell_type": "markdown",
      "metadata": {
        "id": "JVumT68aq6hd"
      },
      "source": [
        "### GRE Score"
      ]
    },
    {
      "cell_type": "code",
      "metadata": {
        "colab": {
          "base_uri": "https://localhost:8080/"
        },
        "id": "LnhnJXtpqigy",
        "outputId": "ab5b7921-d47d-422b-f921-024a8104856d"
      },
      "source": [
        "df.corr()['GRE Score'].drop('GRE Score').sort_values(ascending = False)"
      ],
      "execution_count": null,
      "outputs": [
        {
          "output_type": "execute_result",
          "data": {
            "text/plain": [
              "TOEFL Score          0.840993\n",
              "CGPA                 0.830727\n",
              "Chance of Admit      0.805076\n",
              "University Rating    0.671549\n",
              "SOP                  0.620963\n",
              "Research             0.588385\n",
              "LOR                  0.556729\n",
              "Serial No.          -0.105022\n",
              "Name: GRE Score, dtype: float64"
            ]
          },
          "metadata": {
            "tags": []
          },
          "execution_count": 142
        }
      ]
    },
    {
      "cell_type": "markdown",
      "metadata": {
        "id": "MJLSySwtrY1j"
      },
      "source": [
        "We will group the dataframe by University Rating(Because there's a high correlation between ) and calculate the average value for GRE Score per University Rating"
      ]
    },
    {
      "cell_type": "code",
      "metadata": {
        "colab": {
          "base_uri": "https://localhost:8080/"
        },
        "id": "UrWaJoElrFtB",
        "outputId": "18685c56-ed26-4453-e01a-c228c3546246"
      },
      "source": [
        "Per_UR = df.groupby('University Rating').mean()['GRE Score']\n",
        "Per_UR"
      ],
      "execution_count": null,
      "outputs": [
        {
          "output_type": "execute_result",
          "data": {
            "text/plain": [
              "University Rating\n",
              "1    303.520000\n",
              "2    309.410526\n",
              "3    315.790323\n",
              "4    324.671875\n",
              "5    328.642857\n",
              "Name: GRE Score, dtype: float64"
            ]
          },
          "metadata": {
            "tags": []
          },
          "execution_count": 143
        }
      ]
    },
    {
      "cell_type": "code",
      "metadata": {
        "id": "uia6RPfbrmoI"
      },
      "source": [
        "def fill_nan(uni_rating, second) :\n",
        "  if np.isnan(second) : \n",
        "    return Per_UR[uni_rating]\n",
        "  else :\n",
        "    return second\n",
        "\n",
        "df['GRE Score'] = df.apply(lambda row : fill_nan(row['University Rating'],row['GRE Score']),axis = 1)"
      ],
      "execution_count": null,
      "outputs": []
    },
    {
      "cell_type": "code",
      "metadata": {
        "colab": {
          "base_uri": "https://localhost:8080/"
        },
        "id": "QjOGNxeHt5FQ",
        "outputId": "a0cf5981-3d32-4198-d9cf-fe109a58af56"
      },
      "source": [
        "df.isnull().sum()"
      ],
      "execution_count": null,
      "outputs": [
        {
          "output_type": "execute_result",
          "data": {
            "text/plain": [
              "Serial No.            0\n",
              "GRE Score             0\n",
              "TOEFL Score          19\n",
              "University Rating     0\n",
              "SOP                   0\n",
              "LOR                   0\n",
              "CGPA                 20\n",
              "Research              0\n",
              "Chance of Admit       0\n",
              "dtype: int64"
            ]
          },
          "metadata": {
            "tags": []
          },
          "execution_count": 145
        }
      ]
    },
    {
      "cell_type": "markdown",
      "metadata": {
        "id": "oOY9JHvxvWZX"
      },
      "source": [
        "### TOEFL Score Column"
      ]
    },
    {
      "cell_type": "code",
      "metadata": {
        "colab": {
          "base_uri": "https://localhost:8080/"
        },
        "id": "QmEc4vr4vYVt",
        "outputId": "ef0eddb6-bf3c-4098-d6e8-c8dc5fb0bce1"
      },
      "source": [
        "df.corr()['TOEFL Score'].drop('TOEFL Score').sort_values(ascending = False)"
      ],
      "execution_count": null,
      "outputs": [
        {
          "output_type": "execute_result",
          "data": {
            "text/plain": [
              "GRE Score            0.834685\n",
              "CGPA                 0.828364\n",
              "Chance of Admit      0.783667\n",
              "University Rating    0.689511\n",
              "SOP                  0.647810\n",
              "LOR                  0.556272\n",
              "Research             0.509609\n",
              "Serial No.          -0.153994\n",
              "Name: TOEFL Score, dtype: float64"
            ]
          },
          "metadata": {
            "tags": []
          },
          "execution_count": 146
        }
      ]
    },
    {
      "cell_type": "code",
      "metadata": {
        "colab": {
          "base_uri": "https://localhost:8080/"
        },
        "id": "7aYNLvJfYts_",
        "outputId": "fda9a014-3d22-4e61-f92e-fd42f69d4aef"
      },
      "source": [
        "Per_UR = df.groupby('University Rating').mean()['TOEFL Score']\n",
        "Per_UR"
      ],
      "execution_count": null,
      "outputs": [
        {
          "output_type": "execute_result",
          "data": {
            "text/plain": [
              "University Rating\n",
              "1     99.240000\n",
              "2    103.729167\n",
              "3    107.000000\n",
              "4    111.530303\n",
              "5    113.800000\n",
              "Name: TOEFL Score, dtype: float64"
            ]
          },
          "metadata": {
            "tags": []
          },
          "execution_count": 147
        }
      ]
    },
    {
      "cell_type": "code",
      "metadata": {
        "id": "VAuBdYEVvbK2"
      },
      "source": [
        "df['TOEFL Score'] = df.apply(lambda row : fill_nan(row['University Rating'],row['TOEFL Score']),axis = 1)"
      ],
      "execution_count": null,
      "outputs": []
    },
    {
      "cell_type": "code",
      "metadata": {
        "colab": {
          "base_uri": "https://localhost:8080/"
        },
        "id": "dvJ9i0S0ZLoL",
        "outputId": "2b2498ed-ae49-4800-9247-6ea0ad1070e8"
      },
      "source": [
        "df.isnull().sum()"
      ],
      "execution_count": null,
      "outputs": [
        {
          "output_type": "execute_result",
          "data": {
            "text/plain": [
              "Serial No.            0\n",
              "GRE Score             0\n",
              "TOEFL Score           0\n",
              "University Rating     0\n",
              "SOP                   0\n",
              "LOR                   0\n",
              "CGPA                 20\n",
              "Research              0\n",
              "Chance of Admit       0\n",
              "dtype: int64"
            ]
          },
          "metadata": {
            "tags": []
          },
          "execution_count": 149
        }
      ]
    },
    {
      "cell_type": "markdown",
      "metadata": {
        "id": "qKQlUofhZmjB"
      },
      "source": [
        "### CGPA Column"
      ]
    },
    {
      "cell_type": "code",
      "metadata": {
        "colab": {
          "base_uri": "https://localhost:8080/"
        },
        "id": "acUfQgEQZMuI",
        "outputId": "a95a6f33-ddb5-4c2f-e027-7771f68993ab"
      },
      "source": [
        "df.corr()['CGPA'].drop('CGPA').sort_values(ascending = False)"
      ],
      "execution_count": null,
      "outputs": [
        {
          "output_type": "execute_result",
          "data": {
            "text/plain": [
              "Chance of Admit      0.872492\n",
              "GRE Score            0.824538\n",
              "TOEFL Score          0.824481\n",
              "University Rating    0.750312\n",
              "SOP                  0.720422\n",
              "LOR                  0.669002\n",
              "Research             0.527005\n",
              "Serial No.          -0.058785\n",
              "Name: CGPA, dtype: float64"
            ]
          },
          "metadata": {
            "tags": []
          },
          "execution_count": 150
        }
      ]
    },
    {
      "cell_type": "code",
      "metadata": {
        "colab": {
          "base_uri": "https://localhost:8080/"
        },
        "id": "bsqhGCKQZztD",
        "outputId": "c45ce6d6-8fb7-481d-f1cf-007ab140f621"
      },
      "source": [
        "Per_UR = df.groupby('University Rating').mean()['CGPA']\n",
        "Per_UR"
      ],
      "execution_count": null,
      "outputs": [
        {
          "output_type": "execute_result",
          "data": {
            "text/plain": [
              "University Rating\n",
              "1    7.750000\n",
              "2    8.196064\n",
              "3    8.550000\n",
              "4    9.020746\n",
              "5    9.316909\n",
              "Name: CGPA, dtype: float64"
            ]
          },
          "metadata": {
            "tags": []
          },
          "execution_count": 151
        }
      ]
    },
    {
      "cell_type": "code",
      "metadata": {
        "id": "BgpATfO1Z-7W"
      },
      "source": [
        "df['CGPA'] = df.apply(lambda row : fill_nan(row['University Rating'],row['CGPA']),axis = 1)"
      ],
      "execution_count": null,
      "outputs": []
    },
    {
      "cell_type": "code",
      "metadata": {
        "colab": {
          "base_uri": "https://localhost:8080/"
        },
        "id": "omP1TLG7aDO2",
        "outputId": "693e5c78-5df2-4ed6-ec42-689737abe46b"
      },
      "source": [
        "df.isnull().sum()"
      ],
      "execution_count": null,
      "outputs": [
        {
          "output_type": "execute_result",
          "data": {
            "text/plain": [
              "Serial No.           0\n",
              "GRE Score            0\n",
              "TOEFL Score          0\n",
              "University Rating    0\n",
              "SOP                  0\n",
              "LOR                  0\n",
              "CGPA                 0\n",
              "Research             0\n",
              "Chance of Admit      0\n",
              "dtype: int64"
            ]
          },
          "metadata": {
            "tags": []
          },
          "execution_count": 153
        }
      ]
    },
    {
      "cell_type": "code",
      "metadata": {
        "id": "FA_zyvkQaFcj"
      },
      "source": [
        ""
      ],
      "execution_count": null,
      "outputs": []
    },
    {
      "cell_type": "markdown",
      "metadata": {
        "id": "KyoaBmyka9Pd"
      },
      "source": [
        "## Scatterplot"
      ]
    },
    {
      "cell_type": "code",
      "metadata": {
        "id": "qKtFbZrLbBLc"
      },
      "source": [
        "import matplotlib.pyplot as plt\n",
        "import seaborn as sns"
      ],
      "execution_count": null,
      "outputs": []
    },
    {
      "cell_type": "code",
      "metadata": {
        "colab": {
          "base_uri": "https://localhost:8080/",
          "height": 70
        },
        "id": "O9ev-jASbL3l",
        "outputId": "31b8f4b1-2971-4c4e-f4a6-0868f628a0e4"
      },
      "source": [
        "sns.scatterplot(data = df, x = 'Chance of Admit', y  = 'GRE Score')"
      ],
      "execution_count": null,
      "outputs": [
        {
          "output_type": "execute_result",
          "data": {
            "text/plain": [
              "<matplotlib.axes._subplots.AxesSubplot at 0x7fcf1a60fd50>"
            ]
          },
          "metadata": {
            "tags": []
          },
          "execution_count": 155
        },
        {
          "output_type": "display_data",
          "data": {
            "image/png": "[encoded data removed]",
            "text/plain": [
              "<Figure size 432x288 with 1 Axes>"
            ]
          },
          "metadata": {
            "tags": [],
            "needs_background": "light"
          }
        }
      ]
    },
    {
      "cell_type": "code",
      "metadata": {
        "colab": {
          "base_uri": "https://localhost:8080/",
          "height": 70
        },
        "id": "OcoX2hV-bxS7",
        "outputId": "62976f0b-5e1d-435c-f57a-8aac2fe68796"
      },
      "source": [
        "sns.scatterplot(data = df, x = 'Chance of Admit', y  = 'TOEFL Score')"
      ],
      "execution_count": null,
      "outputs": [
        {
          "output_type": "execute_result",
          "data": {
            "text/plain": [
              "<matplotlib.axes._subplots.AxesSubplot at 0x7fcf1a5f7290>"
            ]
          },
          "metadata": {
            "tags": []
          },
          "execution_count": 156
        },
        {
          "output_type": "display_data",
          "data": {
            "image/png": "[encoded data removed]",
            "text/plain": [
              "<Figure size 432x288 with 1 Axes>"
            ]
          },
          "metadata": {
            "tags": [],
            "needs_background": "light"
          }
        }
      ]
    },
    {
      "cell_type": "code",
      "metadata": {
        "colab": {
          "base_uri": "https://localhost:8080/",
          "height": 296
        },
        "id": "F-YrTf01cur0",
        "outputId": "b26606b3-7dfa-459f-d52a-e3745bce7e06"
      },
      "source": [
        "sns.scatterplot(data = df, x = 'Chance of Admit', y  = 'University Rating')"
      ],
      "execution_count": null,
      "outputs": [
        {
          "output_type": "execute_result",
          "data": {
            "text/plain": [
              "<matplotlib.axes._subplots.AxesSubplot at 0x7fcf1a54ccd0>"
            ]
          },
          "metadata": {
            "tags": []
          },
          "execution_count": 157
        },
        {
          "output_type": "display_data",
          "data": {
            "image/png": "[encoded data removed]",
            "text/plain": [
              "<Figure size 432x288 with 1 Axes>"
            ]
          },
          "metadata": {
            "tags": [],
            "needs_background": "light"
          }
        }
      ]
    },
    {
      "cell_type": "code",
      "metadata": {
        "colab": {
          "base_uri": "https://localhost:8080/"
        },
        "id": "QqbwLJrXc5Kd",
        "outputId": "8e670c8a-541e-4b80-cc1d-148a63ffbaef"
      },
      "source": [
        "sns.scatterplot(data = df, x = 'Chance of Admit', y  = 'SOP')"
      ],
      "execution_count": null,
      "outputs": [
        {
          "output_type": "execute_result",
          "data": {
            "text/plain": [
              "<matplotlib.axes._subplots.AxesSubplot at 0x7fcf1a4cb150>"
            ]
          },
          "metadata": {
            "tags": []
          },
          "execution_count": 158
        },
        {
          "output_type": "display_data",
          "data": {
            "image/png": "[encoded data removed]",
            "text/plain": [
              "<Figure size 432x288 with 1 Axes>"
            ]
          },
          "metadata": {
            "tags": [],
            "needs_background": "light"
          }
        }
      ]
    },
    {
      "cell_type": "code",
      "metadata": {
        "colab": {
          "base_uri": "https://localhost:8080/"
        },
        "id": "LEGhfs7ddBnm",
        "outputId": "c13121d3-b0b1-4a71-a901-73b6b2c93fea"
      },
      "source": [
        "sns.scatterplot(data = df, x = 'Chance of Admit', y  = 'CGPA')"
      ],
      "execution_count": null,
      "outputs": [
        {
          "output_type": "execute_result",
          "data": {
            "text/plain": [
              "<matplotlib.axes._subplots.AxesSubplot at 0x7fcf1a455390>"
            ]
          },
          "metadata": {
            "tags": []
          },
          "execution_count": 159
        },
        {
          "output_type": "display_data",
          "data": {
            "image/png": "[encoded data removed]",
            "text/plain": [
              "<Figure size 432x288 with 1 Axes>"
            ]
          },
          "metadata": {
            "tags": [],
            "needs_background": "light"
          }
        }
      ]
    },
    {
      "cell_type": "code",
      "metadata": {
        "colab": {
          "base_uri": "https://localhost:8080/",
          "height": 296
        },
        "id": "eOb6t7lQdFiZ",
        "outputId": "426d2c7a-82c1-4f7b-ccd6-a4ba2db5929c"
      },
      "source": [
        "sns.scatterplot(data = df, x = 'Chance of Admit', y  = 'Research')"
      ],
      "execution_count": null,
      "outputs": [
        {
          "output_type": "execute_result",
          "data": {
            "text/plain": [
              "<matplotlib.axes._subplots.AxesSubplot at 0x7fcf1a445710>"
            ]
          },
          "metadata": {
            "tags": []
          },
          "execution_count": 160
        },
        {
          "output_type": "display_data",
          "data": {
            "image/png": "[encoded data removed]",
            "text/plain": [
              "<Figure size 432x288 with 1 Axes>"
            ]
          },
          "metadata": {
            "tags": [],
            "needs_background": "light"
          }
        }
      ]
    },
    {
      "cell_type": "markdown",
      "metadata": {
        "id": "LrBOI7J7ejSo"
      },
      "source": [
        "It seems **CGPA** correlates more with Chance of Admission "
      ]
    },
    {
      "cell_type": "markdown",
      "metadata": {
        "id": "sY-TIMS8xUfM"
      },
      "source": [
        "# Training the model"
      ]
    },
    {
      "cell_type": "markdown",
      "metadata": {
        "id": "jA-TpWiIxbBN"
      },
      "source": [
        "## Train / Test Split"
      ]
    },
    {
      "cell_type": "code",
      "metadata": {
        "id": "KC52SXZyxZ1U"
      },
      "source": [
        "from sklearn.model_selection import train_test_split"
      ],
      "execution_count": null,
      "outputs": []
    },
    {
      "cell_type": "code",
      "metadata": {
        "id": "CMFnUOYOxgcb"
      },
      "source": [
        "X = df.drop(['Serial No.','Chance of Admit'],axis = 1)\n",
        "y = df['Chance of Admit']"
      ],
      "execution_count": null,
      "outputs": []
    },
    {
      "cell_type": "code",
      "metadata": {
        "id": "rhYTxj19xy_R"
      },
      "source": [
        "X_train, X_test, y_train, y_test = train_test_split(X, y, test_size=0.2, random_state=42)"
      ],
      "execution_count": null,
      "outputs": []
    },
    {
      "cell_type": "markdown",
      "metadata": {
        "id": "2CXoTq9byxH-"
      },
      "source": [
        "## Scaling"
      ]
    },
    {
      "cell_type": "code",
      "metadata": {
        "id": "Irbu1VUGyT0_"
      },
      "source": [
        "from sklearn.preprocessing import MinMaxScaler"
      ],
      "execution_count": null,
      "outputs": []
    },
    {
      "cell_type": "code",
      "metadata": {
        "id": "H9AVUkccy3PA"
      },
      "source": [
        "scaler = MinMaxScaler()"
      ],
      "execution_count": null,
      "outputs": []
    },
    {
      "cell_type": "code",
      "metadata": {
        "id": "GF6SxgFFzVx8"
      },
      "source": [
        "X_train = scaler.fit_transform(X_train)\n",
        "X_test = scaler.transform(X_test)"
      ],
      "execution_count": null,
      "outputs": []
    },
    {
      "cell_type": "code",
      "metadata": {
        "colab": {
          "base_uri": "https://localhost:8080/"
        },
        "id": "YlS_X2cyzicd",
        "outputId": "e7e92a49-c41f-4859-e0b4-115d09d9d300"
      },
      "source": [
        "X_train"
      ],
      "execution_count": null,
      "outputs": [
        {
          "output_type": "execute_result",
          "data": {
            "text/plain": [
              "array([[0.42      , 0.22222222, 0.25      , ..., 0.5       , 0.28782288,\n",
              "        0.        ],\n",
              "       [0.58      , 0.55555556, 0.5       , ..., 0.625     , 0.49815498,\n",
              "        1.        ],\n",
              "       [0.32      , 0.62962963, 0.25      , ..., 0.75      , 0.46125461,\n",
              "        0.        ],\n",
              "       ...,\n",
              "       [0.28      , 0.33333333, 0.25      , ..., 0.75      , 0.56457565,\n",
              "        0.        ],\n",
              "       [0.88      , 0.85185185, 0.75      , ..., 0.625     , 0.86346863,\n",
              "        1.        ],\n",
              "       [0.72      , 0.7037037 , 0.5       , ..., 0.5       , 0.68265683,\n",
              "        1.        ]])"
            ]
          },
          "metadata": {
            "tags": []
          },
          "execution_count": 167
        }
      ]
    },
    {
      "cell_type": "markdown",
      "metadata": {
        "id": "TZKOmQiitt5z"
      },
      "source": [
        "## Performing Linear Regression Using the Normal Equation\n",
        "\n",
        "![NormalEquation.jpg](data:image/jpeg;base64,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)\n"
      ]
    },
    {
      "cell_type": "code",
      "metadata": {
        "colab": {
          "base_uri": "https://localhost:8080/"
        },
        "id": "iaRYx10nuINl",
        "outputId": "bd13609f-c45b-4558-b452-bee4fe3db766"
      },
      "source": [
        "from numpy.linalg import inv\n",
        "X_train_transpose = np.transpose(X_train)\n",
        "theta = np.matmul(np.matmul(inv(np.matmul(X_train_transpose, X_train)),X_train_transpose),y_train)\n",
        "theta"
      ],
      "execution_count": null,
      "outputs": [
        {
          "output_type": "execute_result",
          "data": {
            "text/plain": [
              "array([ 0.31407149,  0.21640678, -0.12032414,  0.07009035,  0.42598162,\n",
              "        0.34912274, -0.03443095])"
            ]
          },
          "metadata": {
            "tags": []
          },
          "execution_count": 168
        }
      ]
    },
    {
      "cell_type": "markdown",
      "metadata": {
        "id": "KEixPXGT9Ms9"
      },
      "source": [
        "### Evaluating the model"
      ]
    },
    {
      "cell_type": "code",
      "metadata": {
        "id": "qqjELNjPvHBB"
      },
      "source": [
        "from sklearn.metrics import mean_squared_error,mean_absolute_error,explained_variance_score"
      ],
      "execution_count": null,
      "outputs": []
    },
    {
      "cell_type": "code",
      "metadata": {
        "id": "DVCvsJMXyyB_"
      },
      "source": [
        "def predict(theta, data):\n",
        "  predictions = []\n",
        "  for row in data : \n",
        "    predictions.append(np.inner(row, theta))\n",
        "  return predictions"
      ],
      "execution_count": null,
      "outputs": []
    },
    {
      "cell_type": "code",
      "metadata": {
        "colab": {
          "base_uri": "https://localhost:8080/"
        },
        "id": "h3JETkK00M6e",
        "outputId": "82a0a31e-bf98-4129-aa10-9a207b26105e"
      },
      "source": [
        "predictions = predict(theta, X_test)\n",
        "predictions"
      ],
      "execution_count": null,
      "outputs": [
        {
          "output_type": "execute_result",
          "data": {
            "text/plain": [
              "[0.6446922356571,\n",
              " 0.8706359987878688,\n",
              " 0.2538571170430659,\n",
              " 0.15866387080521246,\n",
              " 0.16648329073368295,\n",
              " 0.4998480010374835,\n",
              " 1.0685708654599428,\n",
              " 0.5612298936677812,\n",
              " 0.7371147401117918,\n",
              " 0.6970534558623942,\n",
              " 1.087877098418103,\n",
              " 1.1203758817472287,\n",
              " 0.5991201509562617,\n",
              " 0.8819459432231843,\n",
              " 0.5436220483900992,\n",
              " 0.4712897038441327,\n",
              " 0.5171835975858283,\n",
              " 0.6490372950536942,\n",
              " 0.7691483674158349,\n",
              " 0.7288272647225974,\n",
              " 0.9476862110469946,\n",
              " 0.5635225393785761,\n",
              " 0.7473386541296796,\n",
              " 0.3047564237361384,\n",
              " 0.6804473927905843,\n",
              " 0.43156960915312215,\n",
              " 0.5649484063241771,\n",
              " 0.4121803938733029,\n",
              " 1.1206203281473146,\n",
              " 0.6816937541948694,\n",
              " 0.6613629307922929,\n",
              " 0.7426143571625804,\n",
              " 0.6578796426170864,\n",
              " 0.47593123659127023,\n",
              " 0.833492243142318,\n",
              " 0.7224053906272414,\n",
              " 0.6346785985552638,\n",
              " 1.0987418442749992,\n",
              " 0.5073706954617873,\n",
              " 0.8125289532965871,\n",
              " 1.0595728694105562,\n",
              " 0.77625611183865,\n",
              " 0.3672878311396939,\n",
              " 0.659470851973846,\n",
              " 0.8864950272906265,\n",
              " 1.0949127420226847,\n",
              " 1.0684109833980744,\n",
              " 0.16099482997912473,\n",
              " 0.432731192380736,\n",
              " 0.44573887461706857,\n",
              " 0.6613220502850645,\n",
              " 0.8748217767543919,\n",
              " 0.3737708361565689,\n",
              " 1.1605536119699829,\n",
              " 0.7853943783796772,\n",
              " 0.29907915741876506,\n",
              " 1.001940448944531,\n",
              " 0.8609944672901835,\n",
              " 0.7568209759427106,\n",
              " 0.5195479661236365,\n",
              " 1.0076243486761212,\n",
              " 0.8391421464433221,\n",
              " 0.17454868101396417,\n",
              " 0.5028505018444812,\n",
              " 0.5881216153629656,\n",
              " 0.5408890374230819,\n",
              " 0.36522363220548587,\n",
              " 0.8116685154134824,\n",
              " 0.8023194350408398,\n",
              " 0.5614531884767262,\n",
              " 0.5179052379304396,\n",
              " 0.6470096321270936,\n",
              " 0.9537144675024694,\n",
              " 0.9397744236164376,\n",
              " 0.8135216015628578,\n",
              " 0.40292103300130977,\n",
              " 0.6858067415086002]"
            ]
          },
          "metadata": {
            "tags": []
          },
          "execution_count": 171
        }
      ]
    },
    {
      "cell_type": "code",
      "metadata": {
        "colab": {
          "base_uri": "https://localhost:8080/"
        },
        "id": "CpPcMD1k0y0f",
        "outputId": "11106684-1035-40d2-e2af-fdb83a1ce4f1"
      },
      "source": [
        "mean_absolute_error(y_test,predictions)"
      ],
      "execution_count": null,
      "outputs": [
        {
          "output_type": "execute_result",
          "data": {
            "text/plain": [
              "0.12778661699809182"
            ]
          },
          "metadata": {
            "tags": []
          },
          "execution_count": 172
        }
      ]
    },
    {
      "cell_type": "code",
      "metadata": {
        "colab": {
          "base_uri": "https://localhost:8080/"
        },
        "id": "FqBR-4sP6eRV",
        "outputId": "0597baed-3b72-4238-e914-a2c28dec2d9c"
      },
      "source": [
        "np.sqrt(mean_squared_error(y_test,predictions))"
      ],
      "execution_count": null,
      "outputs": [
        {
          "output_type": "execute_result",
          "data": {
            "text/plain": [
              "0.15363849834077511"
            ]
          },
          "metadata": {
            "tags": []
          },
          "execution_count": 173
        }
      ]
    },
    {
      "cell_type": "code",
      "metadata": {
        "colab": {
          "base_uri": "https://localhost:8080/"
        },
        "id": "yeYsF8CN6iY0",
        "outputId": "6f73d8d1-1e1a-454f-a97f-bc6617b2d9f5"
      },
      "source": [
        "explained_variance_score(y_test,predictions)"
      ],
      "execution_count": null,
      "outputs": [
        {
          "output_type": "execute_result",
          "data": {
            "text/plain": [
              "0.09304520442656972"
            ]
          },
          "metadata": {
            "tags": []
          },
          "execution_count": 174
        }
      ]
    },
    {
      "cell_type": "code",
      "metadata": {
        "colab": {
          "base_uri": "https://localhost:8080/",
          "height": 284
        },
        "id": "0hZS6etY6liQ",
        "outputId": "0701862f-21ea-4b63-8d7a-486572fbf16e"
      },
      "source": [
        "# Our predictions\n",
        "plt.scatter(y_test,predictions)\n",
        "\n",
        "# Perfect predictions\n",
        "plt.plot(y_test,y_test,'r')"
      ],
      "execution_count": null,
      "outputs": [
        {
          "output_type": "execute_result",
          "data": {
            "text/plain": [
              "[<matplotlib.lines.Line2D at 0x7fcf1a94c9d0>]"
            ]
          },
          "metadata": {
            "tags": []
          },
          "execution_count": 175
        },
        {
          "output_type": "display_data",
          "data": {
            "image/png": "[encoded data removed]",
            "text/plain": [
              "<Figure size 432x288 with 1 Axes>"
            ]
          },
          "metadata": {
            "tags": [],
            "needs_background": "light"
          }
        }
      ]
    },
    {
      "cell_type": "markdown",
      "metadata": {
        "id": "-_q_XIz4Vmh9"
      },
      "source": [
        "### Using Scikit Learn"
      ]
    },
    {
      "cell_type": "code",
      "metadata": {
        "colab": {
          "base_uri": "https://localhost:8080/"
        },
        "id": "N_jjC58p85Hn",
        "outputId": "65c63499-c890-4c96-a037-f1e936ea8d2c"
      },
      "source": [
        "from sklearn.linear_model import LinearRegression\n",
        "reg = LinearRegression().fit(X_train, y_train)\n",
        "predictions = reg.predict(X_test)\n",
        "predictions"
      ],
      "execution_count": null,
      "outputs": [
        {
          "output_type": "execute_result",
          "data": {
            "text/plain": [
              "array([0.69258208, 0.81044288, 0.51310898, 0.45419164, 0.41815956,\n",
              "       0.58656033, 0.96835885, 0.66388966, 0.73442086, 0.79897339,\n",
              "       0.94701322, 0.95539983, 0.71502732, 0.74225043, 0.67048096,\n",
              "       0.60906844, 0.64987854, 0.72660227, 0.78182432, 0.70040323,\n",
              "       0.83204485, 0.65202882, 0.7370366 , 0.56705457, 0.71456166,\n",
              "       0.54450931, 0.66018763, 0.59050255, 0.95158175, 0.75348727,\n",
              "       0.7898388 , 0.7682848 , 0.72111588, 0.63795012, 0.81181554,\n",
              "       0.78457268, 0.73335528, 0.93813201, 0.64606667, 0.81306901,\n",
              "       0.93743907, 0.80528176, 0.48915406, 0.69371513, 0.89432217,\n",
              "       0.96177364, 0.92125878, 0.44221111, 0.57322734, 0.61250893,\n",
              "       0.70244802, 0.77584558, 0.55531143, 0.99406201, 0.80993688,\n",
              "       0.54892312, 0.90795649, 0.76566316, 0.75064753, 0.63427477,\n",
              "       0.90600008, 0.77946092, 0.50299323, 0.64243595, 0.6647382 ,\n",
              "       0.68195785, 0.50693471, 0.83263111, 0.80717519, 0.63238343,\n",
              "       0.65395333, 0.72136173, 0.86819596, 0.85715903, 0.78372048,\n",
              "       0.52043994, 0.68695355])"
            ]
          },
          "metadata": {
            "tags": []
          },
          "execution_count": 176
        }
      ]
    },
    {
      "cell_type": "code",
      "metadata": {
        "colab": {
          "base_uri": "https://localhost:8080/"
        },
        "id": "1JWxMX4i-KpW",
        "outputId": "a9a6c72b-396e-4222-ff0f-1eb4296c65c4"
      },
      "source": [
        "mean_absolute_error(y_test,predictions)"
      ],
      "execution_count": null,
      "outputs": [
        {
          "output_type": "execute_result",
          "data": {
            "text/plain": [
              "0.05884554603485342"
            ]
          },
          "metadata": {
            "tags": []
          },
          "execution_count": 177
        }
      ]
    },
    {
      "cell_type": "code",
      "metadata": {
        "colab": {
          "base_uri": "https://localhost:8080/"
        },
        "id": "xvA8tsF3-wMC",
        "outputId": "a74c676d-59a5-47c6-d510-b72699ee7dfb"
      },
      "source": [
        "np.sqrt(mean_squared_error(y_test,predictions))"
      ],
      "execution_count": null,
      "outputs": [
        {
          "output_type": "execute_result",
          "data": {
            "text/plain": [
              "0.08358009329950629"
            ]
          },
          "metadata": {
            "tags": []
          },
          "execution_count": 178
        }
      ]
    },
    {
      "cell_type": "code",
      "metadata": {
        "id": "ynty1O9A-zPU",
        "colab": {
          "base_uri": "https://localhost:8080/"
        },
        "outputId": "1adbaa18-27a4-4c6f-f05d-2082250bc4fc"
      },
      "source": [
        "explained_variance_score(y_test,predictions)"
      ],
      "execution_count": null,
      "outputs": [
        {
          "output_type": "execute_result",
          "data": {
            "text/plain": [
              "0.7176123476324897"
            ]
          },
          "metadata": {
            "tags": []
          },
          "execution_count": 179
        }
      ]
    },
    {
      "cell_type": "code",
      "metadata": {
        "id": "Zz2IMKOv-1a7",
        "colab": {
          "base_uri": "https://localhost:8080/",
          "height": 282
        },
        "outputId": "458ec10f-8380-467d-b6a6-1ba7be5b6a75"
      },
      "source": [
        "# Our predictions\n",
        "plt.scatter(y_test,predictions)\n",
        "\n",
        "# Perfect predictions\n",
        "plt.plot(y_test,y_test,'r')"
      ],
      "execution_count": null,
      "outputs": [
        {
          "output_type": "execute_result",
          "data": {
            "text/plain": [
              "[<matplotlib.lines.Line2D at 0x7fcf1ac33cd0>]"
            ]
          },
          "metadata": {
            "tags": []
          },
          "execution_count": 180
        },
        {
          "output_type": "display_data",
          "data": {
            "image/png": "[encoded data removed]",
            "text/plain": [
              "<Figure size 432x288 with 1 Axes>"
            ]
          },
          "metadata": {
            "tags": [],
            "needs_background": "light"
          }
        }
      ]
    },
    {
      "cell_type": "code",
      "metadata": {
        "id": "Ynp4m1PrT-T-"
      },
      "source": [
        ""
      ],
      "execution_count": null,
      "outputs": []
    },
    {
      "cell_type": "code",
      "metadata": {
        "id": "T9ZLb6xLWl1m"
      },
      "source": [
        ""
      ],
      "execution_count": null,
      "outputs": []
    },
    {
      "cell_type": "code",
      "metadata": {
        "id": "IDz2dHWJWzvO"
      },
      "source": [
        ""
      ],
      "execution_count": null,
      "outputs": []
    },
    {
      "cell_type": "code",
      "metadata": {
        "id": "axm7BG6KZTTm"
      },
      "source": [
        ""
      ],
      "execution_count": null,
      "outputs": []
    }
  ]
}